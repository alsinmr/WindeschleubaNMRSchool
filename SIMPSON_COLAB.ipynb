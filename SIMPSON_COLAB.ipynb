{
 "cells": [
  {
   "cell_type": "markdown",
   "id": "5492a77b",
   "metadata": {},
   "source": [
    "<a href=\"https://githubtocolab.com/alsinmr/ConferenceExamples/blob/master/PraktikumPhysik/NormalVerteilungMunzeWerfen.ipynb\" target=\"_blank\"><img src=\"https://colab.research.google.com/assets/colab-badge.svg\"></a>"
   ]
  },
  {
   "cell_type": "markdown",
   "id": "32db91f0",
   "metadata": {},
   "source": [
    "# SIMPSON Template\n",
    "Simple template for creating a SIMPSON script, running it, and plotting the results using Jupyter notebooks"
   ]
  },
  {
   "cell_type": "code",
   "execution_count": null,
   "id": "9ffb32f7",
   "metadata": {},
   "outputs": [],
   "source": [
    "#Setup for Google Colab\n",
    "import sys\n",
    "if 'google.colab' in sys.modules:\n",
    "    from urllib.request import urlretrieve\n",
    "    import os\n",
    "    url=\"https://inano.au.dk/fileadmin/user_upload/Simpson_Setup_Linux_4.2.1.tbz2\"\n",
    "    filename=os.path.split(url)[1]\n",
    "    out=urlretrieve(url, filename)\n",
    "    !tar xf Simpson_Setup_Linux_4.2.1.tbz2\n",
    "    !cd Simpson\n",
    "    !./install.sh\n",
    "    !cd .."
   ]
  },
  {
   "cell_type": "code",
   "execution_count": 64,
   "id": "2d94bcaf",
   "metadata": {},
   "outputs": [],
   "source": [
    "# Imports\n",
    "from subprocess import Popen, PIPE\n",
    "import numpy as np\n",
    "import matplotlib.pyplot as plt"
   ]
  },
  {
   "cell_type": "code",
   "execution_count": 79,
   "id": "9ab3656f",
   "metadata": {},
   "outputs": [],
   "source": [
    "script=\"\"\"\n",
    "spinsys {\n",
    "  channels 13C 15N\n",
    "  nuclei   13C 15N\n",
    "  dipole   1 2 895 10 20 30\n",
    "  shift    1 10p 1p 0.5 50 20 10\n",
    "}\n",
    "\n",
    "par {\n",
    "  variable index   1\n",
    "\n",
    "  np               128\n",
    "  spin_rate        10000\n",
    "  proton_frequency 400e6\n",
    "  start_operator   I1x\n",
    "  detect_operator  I1p\n",
    "  method           direct\n",
    "  crystal_file     rep144\n",
    "  gamma_angles     100\n",
    "  sw               spin_rate/2\n",
    "  variable tsw     1e6/sw\n",
    "  verbose          1101\n",
    "  variable rfF1    75000\n",
    "  variable rfF2    50000\n",
    "  variable t180F1  0.5e6/rfF1\n",
    "  variable t180F2  0.5e6/rfF2\n",
    "  variable Del_t180 0.5*(t180F2-t180F1)     \n",
    "  variable tr2     0.5e6/spin_rate-t180F2\n",
    "  variable tr1     0.5e6/spin_rate-0.5*t180F2\n",
    "}\n",
    "\n",
    "proc pulseq {} {\n",
    "  global par\n",
    "  store 4\n",
    "  store 5\n",
    "\n",
    "  reset\n",
    "  delay $par(tr2)\n",
    "  pulse $par(t180F2) 0 x $par(rfF2) x\n",
    "  delay $par(tr2)\n",
    "  pulse $par(t180F2) 0 x $par(rfF2) y\n",
    "  store 1\n",
    "\n",
    "  reset\n",
    "  pulse $par(t180F2) 0 x $par(rfF2) y\n",
    "  delay $par(tr2)\n",
    "  pulse $par(t180F2) 0 x $par(rfF2) x\n",
    "  delay $par(tr2)\n",
    "  store 2\n",
    "\n",
    "  reset\n",
    "  delay $par(tr1)\n",
    "  pulse $par(Del_t180) 0 x $par(rfF2) x\n",
    "  pulse $par(t180F1) $par(rfF1) x $par(rfF2) x\n",
    "  pulse $par(Del_t180) 0 x $par(rfF2) x\n",
    "  delay $par(tr1)\n",
    "  store 3\n",
    "\n",
    "  acq\n",
    "  for {set i 1} {$i < $par(np)} {incr i} {\n",
    "    reset\n",
    "    prop 5\n",
    "    prop 2\n",
    "    store 5\n",
    "\n",
    "    reset\n",
    "    prop 4\n",
    "    prop 1\n",
    "    store 4\n",
    "\n",
    "    prop 3\n",
    "    prop 5\n",
    "    acq\n",
    "  }\n",
    "}\n",
    "proc main {} {\n",
    "  global par\n",
    "\n",
    "  set f [fsimpson]\n",
    "  fsave $f $par(name).fid\n",
    "}\n",
    "\"\"\""
   ]
  },
  {
   "cell_type": "code",
   "execution_count": 80,
   "id": "8c3ad431",
   "metadata": {},
   "outputs": [],
   "source": [
    "# Write out a file with the script above, run\n",
    "with open('SIMPSON.tcl','w') as f:f.write(script)\n",
    "process = Popen(['simpson', 'SIMPSON.tcl', '-d'], stdout=PIPE, stderr=PIPE)\n",
    "stdout, stderr = process.communicate()            "
   ]
  },
  {
   "cell_type": "code",
   "execution_count": 81,
   "id": "7da1b9a5",
   "metadata": {},
   "outputs": [],
   "source": [
    "# Collect the results\n",
    "with open('SIMPSON.fid','r') as f:\n",
    "    while True:\n",
    "        if 'DATA'==f.readline().strip():break\n",
    "    S=[]\n",
    "    while True:\n",
    "        line=f.readline()\n",
    "        if 'END'==line.strip():break\n",
    "        S.append(complex(line.strip().split()[0])+complex(line.strip().split()[1])*1j)\n",
    "S=np.array(S)"
   ]
  },
  {
   "cell_type": "code",
   "execution_count": 82,
   "id": "4e659b4c",
   "metadata": {},
   "outputs": [
    {
     "data": {
      "image/png": "[encoded data removed]",
      "text/plain": [
       "<Figure size 720x504 with 1 Axes>"
      ]
     },
     "metadata": {
      "needs_background": "light"
     },
     "output_type": "display_data"
    }
   ],
   "source": [
    "# Plot the results\n",
    "x=2/10000*1e3*np.arange(len(S))\n",
    "fig,ax=plt.subplots()\n",
    "ax.plot(x,1-S.real)\n",
    "ax.set_xlabel(r'$t$ / ms')\n",
    "ax.set_ylabel(r'1-$S/S_0$')\n",
    "fig.set_size_inches([10,7])"
   ]
  },
  {
   "cell_type": "code",
   "execution_count": null,
   "id": "ba534529",
   "metadata": {},
   "outputs": [],
   "source": []
  }
 ],
 "metadata": {
  "kernelspec": {
   "display_name": "Python 3",
   "language": "python",
   "name": "python3"
  },
  "language_info": {
   "codemirror_mode": {
    "name": "ipython",
    "version": 3
   },
   "file_extension": ".py",
   "mimetype": "text/x-python",
   "name": "python",
   "nbconvert_exporter": "python",
   "pygments_lexer": "ipython3",
   "version": "3.8.8"
  }
 },
 "nbformat": 4,
 "nbformat_minor": 5
}
