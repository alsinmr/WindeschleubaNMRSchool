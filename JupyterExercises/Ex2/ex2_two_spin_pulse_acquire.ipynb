{
 "cells": [
  {
   "cell_type": "markdown",
   "id": "ee6a2171",
   "metadata": {},
   "source": [
    "<a href=\"https://githubtocolab.com/alsinmr/WindeschleubaNMRSchool/blob/main/JupyterExercises/Ex2/ex2_two_spin_pulse_acquire.ipynb\" target=\"_parent\"><img src=\"https://colab.research.google.com/assets/colab-badge.svg\" alt=\"Open In Colab\"/></a>"
   ]
  },
  {
   "cell_type": "markdown",
   "id": "7253dc20",
   "metadata": {},
   "source": [
    "## Two-spin pulse/acquire simulation and signal processing.\n",
    "Note: Everything is in SI units for clarity, frequencies are in linear frequencies!"
   ]
  },
  {
   "cell_type": "markdown",
   "id": "d8b8dfa6",
   "metadata": {},
   "source": [
    "### 1) Imports"
   ]
  },
  {
   "cell_type": "code",
   "execution_count": null,
   "id": "e6d815d9",
   "metadata": {},
   "outputs": [],
   "source": [
    "import numpy as np\n",
    "import matplotlib.pyplot as plt\n",
    "from scipy.linalg import expm"
   ]
  },
  {
   "cell_type": "markdown",
   "id": "020dec7b",
   "metadata": {},
   "source": [
    "### 2) Build spin operator matrices"
   ]
  },
  {
   "cell_type": "code",
   "execution_count": null,
   "id": "bb8a1cc6",
   "metadata": {},
   "outputs": [],
   "source": [
    "Ix = 1/2*np.array([[0,1],[1,0]])\n",
    "Iy = 1/2*np.array([[0,-1j],[1j,0]])\n",
    "Iz = 1/2*np.array([[1,0],[0,-1]])\n",
    "E  = np.eye(2)"
   ]
  },
  {
   "cell_type": "markdown",
   "id": "f88fa3de",
   "metadata": {},
   "source": [
    "### 3) Construct spin operators in two-spin basis"
   ]
  },
  {
   "cell_type": "code",
   "execution_count": null,
   "id": "4bbcd3a5",
   "metadata": {},
   "outputs": [],
   "source": [
    "I1x = \n",
    "I2x = \n",
    "I1y = \n",
    "I2y = \n",
    "I1z = \n",
    "I2z = "
   ]
  },
  {
   "cell_type": "markdown",
   "id": "4ebb6f19",
   "metadata": {},
   "source": [
    "### 4) Set Hamiltonian parameters and build the matrix"
   ]
  },
  {
   "cell_type": "code",
   "execution_count": null,
   "id": "bda3c582",
   "metadata": {},
   "outputs": [],
   "source": [
    "offset1 = 4e3 # offset 1\n",
    "offset2 = -3e3 # offset 2\n",
    "J = 200\n",
    "\n",
    "\n",
    "H0 = offset1*I1z + offset2*I2z + J*(I1x*I2x + I1y*I2y + I1z*I2z)"
   ]
  },
  {
   "cell_type": "markdown",
   "id": "e383412e",
   "metadata": {},
   "source": [
    "### 5) Set simulation parameters"
   ]
  },
  {
   "cell_type": "code",
   "execution_count": null,
   "id": "fe4d21dd",
   "metadata": {},
   "outputs": [],
   "source": [
    "rho0 = # starting density operator\n",
    "pulseOp = # pulse operator\n",
    "detOp =  # detection operator\n",
    "\n",
    "dt = # sampling step, \"dwell time\"\n",
    "nPoints = # length of acquisition\n",
    "t = np.arange(nPoints)*dt # time vector\n",
    "\n",
    "sig = np.zeros(nPoints,dtype=complex) # pre-allocation of signal vector\n"
   ]
  },
  {
   "cell_type": "markdown",
   "id": "5e9708b8",
   "metadata": {},
   "source": [
    "### 6) Actual simulation"
   ]
  },
  {
   "cell_type": "code",
   "execution_count": null,
   "id": "fcc21f23",
   "metadata": {},
   "outputs": [],
   "source": [
    "rho=rho0\n",
    "\n",
    "# apply pulse propagator to initial density operator\n",
    "Upulse = \n",
    "rho = Upulse@rho@Upulse.T.conj()\n",
    "\n",
    "# build propagator of free evolution, and acquire\n",
    "U0 = expm(-1j*2*np.pi*H0*dt)\n",
    "for it in range(nPoints):\n",
    "    sig[it] =  # detect\n",
    "    rho = U0@rho@U0.T.conj() # propagation"
   ]
  },
  {
   "cell_type": "markdown",
   "id": "e1fdc5ba",
   "metadata": {},
   "source": [
    "### 7) Plot real and imaginary parts"
   ]
  },
  {
   "cell_type": "code",
   "execution_count": null,
   "id": "9285d55b",
   "metadata": {},
   "outputs": [],
   "source": [
    "ax=plt.figure().add_subplot(111)\n",
    "ax.set_title('Raw signal')\n",
    "ax.plot(t*1e3,sig.real,color='blue')\n",
    "ax.plot(t*1e3,sig.imag,color='red')\n",
    "ax.set_xlabel('t / ms')\n",
    "ax.set_ylabel('sigma / a.u.')\n",
    "ax.legend(['Re','Im'])\n",
    "ax.set_xlim([0,t[-1]*1e3])"
   ]
  },
  {
   "cell_type": "markdown",
   "id": "b45a73da",
   "metadata": {},
   "source": [
    "### 8) Apodize, i.e. multiply with window function"
   ]
  },
  {
   "cell_type": "code",
   "execution_count": null,
   "id": "40193f13",
   "metadata": {},
   "outputs": [],
   "source": [
    "twin = 30e-3  #Apodization parameter\n",
    "win = np.exp(-t/twin)\n",
    "\n",
    "sig_apo = sig*win #Apply window to signal\n",
    "\n",
    "ax=plt.figure().add_subplot(111)\n",
    "ax.set_title('Apodized signal')\n",
    "ax.plot(t*1e3,sig_apo.real,color='blue')\n",
    "ax.plot(t*1e3,sig_apo.imag,color='red')\n",
    "ax.set_xlabel('t / ms')\n",
    "ax.set_ylabel('sigma / a.u.')\n",
    "ax.legend(['Re','Im'])\n",
    "ax.set_xlim([0,t[-1]*1e3])"
   ]
  },
  {
   "cell_type": "markdown",
   "id": "2ba2f36f",
   "metadata": {},
   "source": [
    "### 9) Fourier transform with zero-filling, construction of frequency vector"
   ]
  },
  {
   "cell_type": "code",
   "execution_count": null,
   "id": "075853c4",
   "metadata": {},
   "outputs": [],
   "source": [
    "#fft with zerofilling two twice the original points\n",
    "sig_apo[0]/=2\n",
    "spec = np.fft.fftshift(np.fft.fft(sig_apo,2*nPoints));\n",
    "\n",
    "#frequency vector\n",
    "N=len(spec)\n",
    "nyqFreq = 1/(2*dt)\n",
    "unitAxis = 2/N * (np.arange(N)-np.fix(N/2))\n",
    "freq = nyqFreq * unitAxis;\n",
    "\n",
    "ax=plt.figure().add_subplot(111)\n",
    "ax.set_title('Spectrum')\n",
    "ax.plot(freq/1e3,spec.real,color='blue')\n",
    "#ax.plot(freq/1e3,spec.imag,color='red')\n",
    "#ax.plot(freq/1e3,np.abs(spec),color='black',linestyle='--')\n",
    "ax.set_xlabel('freq / kHz')\n",
    "ax.set_ylabel('Spectrum / a.u.')\n",
    "ax.legend(['Re','Im','Abs'])\n",
    "ax.set_xlim([freq[0]/1e3,freq[-1]/1e3])"
   ]
  },
  {
   "cell_type": "code",
   "execution_count": null,
   "id": "dc9dcf08",
   "metadata": {},
   "outputs": [],
   "source": []
  }
 ],
 "metadata": {
  "kernelspec": {
   "display_name": "Python 3",
   "language": "python",
   "name": "python3"
  },
  "language_info": {
   "codemirror_mode": {
    "name": "ipython",
    "version": 3
   },
   "file_extension": ".py",
   "mimetype": "text/x-python",
   "name": "python",
   "nbconvert_exporter": "python",
   "pygments_lexer": "ipython3",
   "version": "3.7.3"
  }
 },
 "nbformat": 4,
 "nbformat_minor": 5
}
