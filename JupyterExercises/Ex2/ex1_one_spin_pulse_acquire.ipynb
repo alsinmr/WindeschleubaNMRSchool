{
 "cells": [
  {
   "cell_type": "markdown",
   "metadata": {
    "colab_type": "text",
    "id": "view-in-github"
   },
   "source": [
    "<a href=\"https://githubtocolab.com/alsinmr/WindeschleubaNMRSchool/blob/main/JupyterExercises/Ex2/ex1_one_spin_pulse_acquire.ipynb\" target=\"_parent\"><img src=\"https://colab.research.google.com/assets/colab-badge.svg\" alt=\"Open In Colab\"/></a>"
   ]
  },
  {
   "cell_type": "markdown",
   "metadata": {
    "id": "sQmZ88vcX6F2"
   },
   "source": [
    "## Simple one-spin pulse/acquire simulation and signal processing.\n",
    "Note: Everything is in SI units for clarity, frequencies are in linear frequencies!"
   ]
  },
  {
   "cell_type": "markdown",
   "metadata": {},
   "source": [
    "### 1) Imports"
   ]
  },
  {
   "cell_type": "code",
   "execution_count": 1,
   "metadata": {},
   "outputs": [],
   "source": [
    "import numpy as np\n",
    "from scipy.linalg import expm\n",
    "import matplotlib.pyplot as plt"
   ]
  },
  {
   "cell_type": "markdown",
   "metadata": {},
   "source": [
    "### 2) Build spin operator matrices"
   ]
  },
  {
   "cell_type": "code",
   "execution_count": null,
   "metadata": {
    "colab": {
     "base_uri": "https://localhost:8080/",
     "height": 312
    },
    "id": "Nim7HQJmYHaM",
    "outputId": "9f236658-e01e-4f2f-fd14-048a6f76a12d"
   },
   "outputs": [],
   "source": [
    "Ix = 1/2*np.array([[0,1],[1,0]])\n",
    "Iy = 1/2*np.array([[0,-1j],[1j,0]])\n",
    "Iz = 1/2*np.array([[1,0],[0,-1]])\n",
    "E = np.eye(2)"
   ]
  },
  {
   "cell_type": "markdown",
   "metadata": {},
   "source": [
    "### 3) Set Hamiltonian parameters and build the matrix"
   ]
  },
  {
   "cell_type": "code",
   "execution_count": null,
   "metadata": {},
   "outputs": [],
   "source": [
    "offset = 4e3    #4 kHz offset\n",
    "H0 = offset*Iz"
   ]
  },
  {
   "cell_type": "markdown",
   "metadata": {},
   "source": [
    "### 4) Set simulation parameters"
   ]
  },
  {
   "cell_type": "code",
   "execution_count": null,
   "metadata": {},
   "outputs": [],
   "source": [
    "rho0 =  #starting density operator\n",
    "pulseOp = Ix #pulse operator\n",
    "detOp =  #detection operator\n",
    "\n",
    "dt =  #Sampling step, \"dwell time\"\n",
    "nPoints =  #length of acquisition\n",
    "t=np.arange(nPoints)*dt\n",
    "\n",
    "sig=np.zeros(nPoints,dtype=complex)\n",
    "\n",
    "rho=rho0"
   ]
  },
  {
   "cell_type": "markdown",
   "metadata": {},
   "source": [
    "### 5) Actual simulation"
   ]
  },
  {
   "cell_type": "code",
   "execution_count": null,
   "metadata": {},
   "outputs": [],
   "source": [
    "Upulse = expm()\n",
    "rho = Upulse@rho@Upulse.T.conj()\n",
    "\n",
    "# build propagator of free evolution, and acquire\n",
    "U0 =\n",
    "\n",
    "for it in range(nPoints):\n",
    "    sig[it]= ; # detect\n",
    "    rho = U0@rho@U0.T.conj() # propagation"
   ]
  },
  {
   "cell_type": "markdown",
   "metadata": {},
   "source": [
    "### 6) Plot real and imaginary part"
   ]
  },
  {
   "cell_type": "code",
   "execution_count": null,
   "metadata": {},
   "outputs": [],
   "source": [
    "ax=plt.figure().add_subplot(111)\n",
    "ax.set_title('Raw signal')\n",
    "ax.plot(t*1e3,sig.real,color='blue')\n",
    "ax.plot(t*1e3,sig.imag,color='red')\n",
    "ax.set_xlabel('t / ms')\n",
    "ax.set_ylabel('sigma / a.u.')\n",
    "ax.legend(['Re','Im'])\n",
    "ax.set_xlim([0,t[-1]*1e3])"
   ]
  },
  {
   "cell_type": "markdown",
   "metadata": {},
   "source": [
    "### 7) Apodize with window function and plot"
   ]
  },
  {
   "cell_type": "code",
   "execution_count": null,
   "metadata": {
    "colab": {
     "base_uri": "https://localhost:8080/",
     "height": 312
    },
    "id": "THW55rcsh10u",
    "outputId": "45577176-b7b8-4d9d-d0a0-1f2d90532dc3"
   },
   "outputs": [],
   "source": [
    "twin = 1e-3  #Apodization parameter\n",
    "win = np.exp(-t/twin)\n",
    "\n",
    "sig_apo = sig*win #Apply window to signal\n",
    "\n",
    "ax=plt.figure().add_subplot(111)\n",
    "ax.set_title('Apodized signal')\n",
    "ax.plot(t*1e3,sig_apo.real,color='blue')\n",
    "ax.plot(t*1e3,sig_apo.imag,color='red')\n",
    "ax.set_xlabel('t / ms')\n",
    "ax.set_ylabel('sigma / a.u.')\n",
    "ax.legend(['Re','Im'])\n",
    "ax.set_xlim([0,t[-1]*1e3])"
   ]
  },
  {
   "cell_type": "markdown",
   "metadata": {},
   "source": [
    "### 8) Fourier transform with Zero-filling, construction of frequency vector"
   ]
  },
  {
   "cell_type": "code",
   "execution_count": null,
   "metadata": {
    "colab": {
     "base_uri": "https://localhost:8080/",
     "height": 312
    },
    "id": "iG9EKO5dkmv4",
    "outputId": "97ca6427-aa76-4350-f975-6db3613a2c6a"
   },
   "outputs": [],
   "source": [
    "#fft with zerofilling two twice the original points\n",
    "sig_apo[0]/=2\n",
    "spec = np.fft.fftshift(np.fft.fft(sig_apo,2*nPoints));\n",
    "\n",
    "#frequency vector\n",
    "N=len(spec)\n",
    "nyqFreq = 1/(2*dt)\n",
    "unitAxis = 2/N * (np.arange(N)-np.fix(N/2))\n",
    "freq = nyqFreq * unitAxis;\n",
    "\n",
    "ax=plt.figure().add_subplot(111)\n",
    "ax.set_title('Spectrum')\n",
    "ax.plot(freq/1e3,spec.real,color='blue')\n",
    "ax.plot(freq/1e3,spec.imag,color='red')\n",
    "ax.plot(freq/1e3,np.abs(spec),color='black',linestyle='--')\n",
    "ax.set_xlabel('freq / kHz')\n",
    "ax.set_ylabel('Spectrum / a.u.')\n",
    "ax.legend(['Re','Im','Abs'])\n",
    "ax.set_xlim([freq[0]/1e3,freq[-1]/1e3])\n"
   ]
  }
 ],
 "metadata": {
  "colab": {
   "authorship_tag": "ABX9TyMIwy+5g9gAQ5X1jk3VM6Oa",
   "collapsed_sections": [],
   "include_colab_link": true,
   "provenance": [],
   "toc_visible": true
  },
  "kernelspec": {
   "display_name": "Python 3",
   "language": "python",
   "name": "python3"
  },
  "language_info": {
   "codemirror_mode": {
    "name": "ipython",
    "version": 3
   },
   "file_extension": ".py",
   "mimetype": "text/x-python",
   "name": "python",
   "nbconvert_exporter": "python",
   "pygments_lexer": "ipython3",
   "version": "3.8.8"
  }
 },
 "nbformat": 4,
 "nbformat_minor": 1
}
