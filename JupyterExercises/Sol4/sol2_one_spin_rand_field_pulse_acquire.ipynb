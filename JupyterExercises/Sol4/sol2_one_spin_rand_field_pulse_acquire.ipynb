{
 "cells": [
  {
   "cell_type": "markdown",
   "id": "7d363289",
   "metadata": {},
   "source": [
    "<a href=\"https://githubtocolab.com/alsinmr/WindeschleubaNMRSchool/blob/main/JupyterExercises/Sol4/sol2_one_spin_rand_field_pulse_acquire.ipynb\" target=\"_parent\"><img src=\"https://colab.research.google.com/assets/colab-badge.svg\" alt=\"Open In Colab\"/></a>"
   ]
  },
  {
   "cell_type": "markdown",
   "id": "c0b9e5c9",
   "metadata": {},
   "source": [
    "## One-spin pulse acquire simulation in Liouville space with random field relaxation\n",
    "Note: everything in SI units for clarity, frequencies in linear frequencies!"
   ]
  },
  {
   "cell_type": "markdown",
   "id": "2eb314ad",
   "metadata": {},
   "source": [
    "### 1) Imports"
   ]
  },
  {
   "cell_type": "code",
   "execution_count": 156,
   "id": "ae346876",
   "metadata": {},
   "outputs": [],
   "source": [
    "import numpy as np\n",
    "from scipy.linalg import expm\n",
    "import matplotlib.pyplot as plt"
   ]
  },
  {
   "cell_type": "markdown",
   "id": "232f0ba1",
   "metadata": {},
   "source": [
    "### 2) Build spin operator matrices"
   ]
  },
  {
   "cell_type": "code",
   "execution_count": 157,
   "id": "2ae6cc24",
   "metadata": {},
   "outputs": [],
   "source": [
    "Ix = 1/2*np.array([[0,1],[1,0]])\n",
    "Iy = 1/2*np.array([[0,-1j],[1j,0]])\n",
    "Iz = 1/2*np.array([[1,0],[0,-1]])\n",
    "Ip = Ix+1j*Iy\n",
    "Im = Ix-1j*Iy\n",
    "E = np.eye(2)"
   ]
  },
  {
   "cell_type": "markdown",
   "id": "76c00128",
   "metadata": {},
   "source": [
    "### 3) Set Hamiltonian parameters and build the matrix"
   ]
  },
  {
   "cell_type": "code",
   "execution_count": 158,
   "id": "dc83cdd8",
   "metadata": {},
   "outputs": [],
   "source": [
    "offset = 4e3   #4 kHz offset\n",
    "H0 = offset*Iz\n",
    "\n",
    "k_z = 50e2\n",
    "k_xy = 10e2\n",
    "\n",
    "T2 = 1/(k_xy+k_z)\n",
    "T1 = 1/(2*k_xy)"
   ]
  },
  {
   "cell_type": "markdown",
   "id": "f70c997c",
   "metadata": {},
   "source": [
    "### 4) Set simulation parameters"
   ]
  },
  {
   "cell_type": "code",
   "execution_count": 159,
   "id": "2804b475",
   "metadata": {},
   "outputs": [],
   "source": [
    "rho0 = Iz  #Starting density operator\n",
    "pulseOp = Iy #Pulse operator\n",
    "detOp = Ix + 1j*Iy #detection operator\n",
    "\n",
    "rho_eq=Iz #Equilibrium operator\n",
    "\n",
    "dt = 10e-6 #Sampling time step (dwell time)\n",
    "nPoints = 1024  #Length of acquisition\n",
    "t = np.arange(1024)*dt #Time vector\n",
    "\n",
    "sig = np.zeros(nPoints,dtype=complex) #Pre-allocation of signal vector"
   ]
  },
  {
   "cell_type": "markdown",
   "id": "b59c65c0",
   "metadata": {},
   "source": [
    "### 5) Actual simulation"
   ]
  },
  {
   "cell_type": "code",
   "execution_count": 160,
   "id": "588570e3",
   "metadata": {},
   "outputs": [],
   "source": [
    "#Convert everything into Liouville space\n",
    "H0_L = np.kron(H0,E)-np.kron(E,H0.T)\n",
    "rho0_L = rho0.T.flatten()  #Creates a vector out of the rho0 matrix\n",
    "pulseOp_L = np.kron(pulseOp,E)-np.kron(E,pulseOp.T)\n",
    "detOp_L = detOp.conj().T.flatten()\n",
    "rho_eq_L = rho_eq.T.flatten()\n",
    "\n",
    "Ix_doub_comm = (np.kron(Ix,E)-np.kron(E,Ix.T))@(np.kron(Ix,E)-np.kron(E,Ix.T))\n",
    "Iy_doub_comm = (np.kron(Iy,E)-np.kron(E,Iy.T))@(np.kron(Iy,E)-np.kron(E,Iy.T))\n",
    "Iz_doub_comm = (np.kron(Iz,E)-np.kron(E,Iz.T))@(np.kron(Iz,E)-np.kron(E,Iz.T))\n",
    "\n",
    "#Generate relaxation superoperator\n",
    "R = k_z*Iz_doub_comm + k_xy*(Ix_doub_comm+Iy_doub_comm)\n",
    "\n",
    "#start sim\n",
    "rho_L = rho0_L\n",
    "\n",
    "# apply pulse propagator to initial density operator\n",
    "Upulse_L = expm(-1j*np.pi/2*pulseOp_L) #pi/2 pulse\n",
    "rho_L = Upulse_L@rho_L\n",
    "\n",
    "# build propagator of free evolution and acquire\n",
    "U0_L = expm(-1j*2*np.pi*H0_L*dt-R*dt)\n",
    "\n",
    "for k in range(nPoints):\n",
    "    sig[k] = detOp_L@rho_L\n",
    "    #rho_L = U0_L@rho_L\n",
    "    rho_L = rho_eq_L+U0_L@(rho_L-rho_eq_L)"
   ]
  },
  {
   "cell_type": "markdown",
   "id": "558753d1",
   "metadata": {},
   "source": [
    "### 6) Plot real and imaginary part, and relaxation on top"
   ]
  },
  {
   "cell_type": "code",
   "execution_count": 161,
   "id": "68a2fc51",
   "metadata": {},
   "outputs": [
    {
     "data": {
      "text/plain": [
       "<matplotlib.legend.Legend at 0x13aacec10>"
      ]
     },
     "execution_count": 161,
     "metadata": {},
     "output_type": "execute_result"
    },
    {
     "data": {
      "image/png": "[encoded data removed]",
      "text/plain": [
       "<Figure size 432x288 with 1 Axes>"
      ]
     },
     "metadata": {
      "needs_background": "light"
     },
     "output_type": "display_data"
    }
   ],
   "source": [
    "ax=plt.subplots()[1]\n",
    "ax.plot(t*1e3,sig.real,color='blue')\n",
    "ax.plot(t*1e3,sig.imag,color='red')\n",
    "ax.set_title('raw signal')\n",
    "ax.set_xlabel('t / ms')\n",
    "ax.set_ylabel('signal / a.u.')\n",
    "ax.legend(('Re','Im'))"
   ]
  },
  {
   "cell_type": "markdown",
   "id": "348e83a9",
   "metadata": {},
   "source": [
    "### 7) Apodize, i.e. multiply with window function"
   ]
  },
  {
   "cell_type": "code",
   "execution_count": 162,
   "id": "6927d159",
   "metadata": {},
   "outputs": [],
   "source": [
    "twin = np.inf #Apodization parameter\n",
    "win = np.exp(-t/twin)\n",
    "\n",
    "#Apply window to signal\n",
    "sig_apo = sig*win\n",
    "\n",
    "# ax=plt.subplots()[1]\n",
    "# ax.plot(t*1e3,sig_apo.real,color='red')\n",
    "# ax.plot(t*1e3,sig_apo.imag,color='blue')\n",
    "# ax.set_title('Apodized signal')\n",
    "# ax.set_xlabel('t / ms')\n",
    "# ax.set_ylabel('signal / a.u.')\n",
    "# ax.legend(('Re','Im'))"
   ]
  },
  {
   "cell_type": "markdown",
   "id": "665af090",
   "metadata": {},
   "source": [
    "### 8) Fourier transform with zero-filling, construction of the frequency vector"
   ]
  },
  {
   "cell_type": "code",
   "execution_count": 163,
   "id": "02283858",
   "metadata": {},
   "outputs": [
    {
     "data": {
      "text/plain": [
       "<matplotlib.legend.Legend at 0x13aafca00>"
      ]
     },
     "execution_count": 163,
     "metadata": {},
     "output_type": "execute_result"
    },
    {
     "data": {
      "image/png": "[encoded data removed]",
      "text/plain": [
       "<Figure size 432x288 with 1 Axes>"
      ]
     },
     "metadata": {
      "needs_background": "light"
     },
     "output_type": "display_data"
    }
   ],
   "source": [
    "sig_apo[0]/=2 #Divide first point by 2 to get correct baseline\n",
    "spec=np.fft.fftshift(np.fft.fft(sig_apo,2*nPoints))*dt\n",
    "\n",
    "#Frequency vector\n",
    "N=spec.size\n",
    "nyqFreq = 1/(2*dt)\n",
    "unitAxis=2/N*(np.arange(N)-N//2)\n",
    "freq = nyqFreq*unitAxis\n",
    "\n",
    "ax=plt.subplots()[1]\n",
    "ax.plot(freq/1e3,spec.real,color='blue')\n",
    "ax.plot(freq/1e3,spec.imag,color='red')\n",
    "ax.plot(freq/1e3,np.abs(spec),color='black')\n",
    "ax.set_title('spectrum')\n",
    "ax.legend(('Re','Im','Abs'))"
   ]
  },
  {
   "cell_type": "markdown",
   "id": "6b7f6f20",
   "metadata": {},
   "source": [
    "### 9) Basis transformation"
   ]
  },
  {
   "cell_type": "code",
   "execution_count": 164,
   "id": "7562486a",
   "metadata": {},
   "outputs": [
    {
     "name": "stdout",
     "output_type": "stream",
     "text": [
      "B*B':\n",
      "[[ 1.00000000e+00+0.j  0.00000000e+00+0.j  0.00000000e+00+0.j\n",
      "  -2.23711432e-17+0.j]\n",
      " [ 0.00000000e+00+0.j  1.00000000e+00+0.j -2.23711432e-17+0.j\n",
      "   0.00000000e+00+0.j]\n",
      " [ 0.00000000e+00+0.j -2.23711432e-17+0.j  1.00000000e+00+0.j\n",
      "   0.00000000e+00+0.j]\n",
      " [-2.23711432e-17+0.j  0.00000000e+00+0.j  0.00000000e+00+0.j\n",
      "   1.00000000e+00+0.j]]\n"
     ]
    }
   ],
   "source": [
    "#Basis transformation to operator basis\n",
    "B=np.zeros([E.size,4],dtype=complex)\n",
    "B[:,0]=E.T.flatten()\n",
    "B[:,1]=Iz.T.flatten()\n",
    "B[:,2]=Ix.T.flatten()\n",
    "B[:,3]=Iy.T.flatten()\n",
    "\n",
    "#Normalize eigenvectors\n",
    "for i in range(B.shape[1]):\n",
    "    B[:,i]=B[:,i]/np.sqrt(B[:,i]@B[:,i].conj())\n",
    "\n",
    "#Check that B is unitary\n",
    "print(\"B*B':\")\n",
    "print(B@B.conj().T)\n",
    "\n",
    "#Convert to Operator basis\n",
    "H0_L_B = B.conj().T@H0_L@B\n",
    "rho0_L_B = B.conj().T@rho0_L\n",
    "pulseOp_L_B = B.conj().T@pulseOp_L@B\n",
    "detOp_L_B = B.conj().T@detOp_L\n",
    "rho_eq_L_B = B.conj().T@rho_eq_L\n",
    "R_B=B.conj()@R@B"
   ]
  },
  {
   "cell_type": "markdown",
   "id": "db0ff73e",
   "metadata": {},
   "source": [
    "# T1 relaxation"
   ]
  },
  {
   "cell_type": "markdown",
   "id": "b451d69f",
   "metadata": {},
   "source": [
    "Apply pi pulse, detect Iz"
   ]
  },
  {
   "cell_type": "code",
   "execution_count": 165,
   "id": "27640b1e",
   "metadata": {},
   "outputs": [],
   "source": [
    "rho0 = Iz  #Starting density operator\n",
    "pulseOp = Iy #Pulse operator\n",
    "detOp = Iz #detection operator\n",
    "\n",
    "rho_eq=Iz #Equilibrium operator\n",
    "\n",
    "dt = 10e-6 #Sampling time step (dwell time)\n",
    "nPoints = 1024  #Length of acquisition\n",
    "t = np.arange(1024)*dt #Time vector\n",
    "\n",
    "sig = np.zeros(nPoints,dtype=complex) #Pre-allocation of signal vector"
   ]
  },
  {
   "cell_type": "markdown",
   "id": "bdc8fb19",
   "metadata": {},
   "source": [
    "### Repeat (5) above, but applying pi pulse"
   ]
  },
  {
   "cell_type": "code",
   "execution_count": 166,
   "id": "16dae369",
   "metadata": {},
   "outputs": [],
   "source": [
    "#Convert everything into Liouville space\n",
    "H0_L = np.kron(H0,E)-np.kron(E,H0.T)\n",
    "rho0_L = rho0.T.flatten()  #Creates a vector out of the rho0 matrix\n",
    "pulseOp_L = np.kron(pulseOp,E)-np.kron(E,pulseOp.T)\n",
    "detOp_L = detOp.conj().T.flatten()\n",
    "rho_eq_L = rho_eq.T.flatten()\n",
    "\n",
    "Ix_doub_comm = (np.kron(Ix,E)-np.kron(E,Ix.T))@(np.kron(Ix,E)-np.kron(E,Ix.T))\n",
    "Iy_doub_comm = (np.kron(Iy,E)-np.kron(E,Iy.T))@(np.kron(Iy,E)-np.kron(E,Iy.T))\n",
    "Iz_doub_comm = (np.kron(Iz,E)-np.kron(E,Iz.T))@(np.kron(Iz,E)-np.kron(E,Iz.T))\n",
    "\n",
    "#Generate relaxation superoperator\n",
    "R = k_z*Iz_doub_comm + k_xy*(Ix_doub_comm+Iy_doub_comm)\n",
    "\n",
    "#start sim\n",
    "rho_L = rho0_L\n",
    "\n",
    "# apply pulse propagator to initial density operator\n",
    "Upulse_L = expm(-1j*np.pi*pulseOp_L) #pi/2 pulse\n",
    "rho_L = Upulse_L@rho_L\n",
    "\n",
    "# build propagator of free evolution and acquire\n",
    "U0_L = expm(-1j*2*np.pi*H0_L*dt-R*dt)\n",
    "\n",
    "for k in range(nPoints):\n",
    "    sig[k] = detOp_L@rho_L\n",
    "    rho_L = rho_eq_L+U0_L@(rho_L-rho_eq_L)"
   ]
  },
  {
   "cell_type": "markdown",
   "id": "bdffd195",
   "metadata": {},
   "source": [
    "### Plot recovery curve"
   ]
  },
  {
   "cell_type": "code",
   "execution_count": 167,
   "id": "559761a0",
   "metadata": {},
   "outputs": [
    {
     "data": {
      "text/plain": [
       "Text(0, 0.5, 'Iz')"
      ]
     },
     "execution_count": 167,
     "metadata": {},
     "output_type": "execute_result"
    },
    {
     "data": {
      "image/png": "[encoded data removed]",
      "text/plain": [
       "<Figure size 432x288 with 1 Axes>"
      ]
     },
     "metadata": {
      "needs_background": "light"
     },
     "output_type": "display_data"
    }
   ],
   "source": [
    "ax=plt.subplots()[1]\n",
    "ax.plot(t*1e3,sig.real,color='blue')\n",
    "#ax.plot(t*1e3,sig.imag,color='red')\n",
    "ax.set_title('recovery')\n",
    "ax.set_xlabel('t / ms')\n",
    "ax.set_ylabel('Iz')\n"
   ]
  },
  {
   "cell_type": "code",
   "execution_count": null,
   "id": "9ab472df",
   "metadata": {},
   "outputs": [],
   "source": []
  },
  {
   "cell_type": "code",
   "execution_count": null,
   "id": "c1d592fe",
   "metadata": {},
   "outputs": [],
   "source": []
  }
 ],
 "metadata": {
  "kernelspec": {
   "display_name": "Python 3 (ipykernel)",
   "language": "python",
   "name": "python3"
  },
  "language_info": {
   "codemirror_mode": {
    "name": "ipython",
    "version": 3
   },
   "file_extension": ".py",
   "mimetype": "text/x-python",
   "name": "python",
   "nbconvert_exporter": "python",
   "pygments_lexer": "ipython3",
   "version": "3.9.16"
  }
 },
 "nbformat": 4,
 "nbformat_minor": 5
}
