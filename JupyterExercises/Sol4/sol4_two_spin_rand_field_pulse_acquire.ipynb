{
 "cells": [
  {
   "cell_type": "markdown",
   "id": "6e8b54d1",
   "metadata": {},
   "source": [
    "## Heternuclear two-spin pulse acquire simulation in Liouville space, with random filed relaxation\n",
    "Note: everything in SI units for clarity, frequncies in linear frequencies!"
   ]
  },
  {
   "cell_type": "markdown",
   "id": "c6fcb2be",
   "metadata": {},
   "source": [
    "### 1) Imports"
   ]
  },
  {
   "cell_type": "code",
   "execution_count": 1,
   "id": "ff301d00",
   "metadata": {},
   "outputs": [],
   "source": [
    "import numpy as np\n",
    "from scipy.linalg import expm\n",
    "import matplotlib.pyplot as plt"
   ]
  },
  {
   "cell_type": "markdown",
   "id": "b54cf43c",
   "metadata": {},
   "source": [
    "### 2) Build spin operator matrices"
   ]
  },
  {
   "cell_type": "code",
   "execution_count": 2,
   "id": "dcc78001",
   "metadata": {},
   "outputs": [],
   "source": [
    "Ix = 1/2*np.array([[0,1],[1,0]])\n",
    "Iy = 1/2*np.array([[0,-1j],[1j,0]])\n",
    "Iz = 1/2*np.array([[1,0],[0,-1]])\n",
    "Ip = Ix+1j*Iy\n",
    "Im = Ix-1j*Iy\n",
    "Ia = np.array([[1,0],[0,0]])\n",
    "Ib = np.array([[0,0],[0,1]])\n",
    "E = np.eye(2)\n",
    "\n",
    "#Construct spin operators in two-spin basis\n",
    "I1x = np.kron(Ix,E);\n",
    "I2x = np.kron(E,Ix);\n",
    "I1y = np.kron(Iy,E);\n",
    "I2y = np.kron(E,Iy);\n",
    "I1z = np.kron(Iz,E);\n",
    "I2z = np.kron(E,Iz);\n",
    "I1p = np.kron(Ip,E);\n",
    "I2p = np.kron(E,Ip);\n",
    "I1m = np.kron(Im,E);\n",
    "I2m = np.kron(E,Im);\n",
    "I1a = np.kron(Ia,E);\n",
    "I2a = np.kron(E,Ia);\n",
    "I1b = np.kron(Ib,E);\n",
    "I2b = np.kron(E,Ib);\n",
    "E = np.eye(4);"
   ]
  },
  {
   "cell_type": "markdown",
   "id": "0ad5b29d",
   "metadata": {},
   "source": [
    "### 3) Set Hamiltonian parameters and build the matrix"
   ]
  },
  {
   "cell_type": "code",
   "execution_count": 3,
   "id": "3cf07ca6",
   "metadata": {},
   "outputs": [],
   "source": [
    "offset1 = 8e3 #Offset 1\n",
    "offset2 = -10e3 #Offset 2\n",
    "J = 400 #J coupling\n",
    "\n",
    "H0 = offset1*I1z + offset2*I2z + J*(I1z*I2z)\n",
    "\n",
    "k_z_1 = 0.1e3\n",
    "k_xy_1 = 0.1e3\n",
    "\n",
    "T2_1=1/(k_xy_1+k_z_1)\n",
    "T1_1=1/(2*k_xy_1)\n",
    "\n",
    "k_xy_2 = 0.1*J\n",
    "k_z_2 = k_xy_2\n",
    "\n",
    "T2_2=1/(k_xy_2+k_z_2)\n",
    "T1_2=1/(2*k_xy_2)"
   ]
  },
  {
   "cell_type": "markdown",
   "id": "5921a417",
   "metadata": {},
   "source": [
    "### 3) Set simulation parameters"
   ]
  },
  {
   "cell_type": "code",
   "execution_count": 4,
   "id": "f6642121",
   "metadata": {},
   "outputs": [],
   "source": [
    "rho0 = I1z # starting density operator\n",
    "pulseOp = I1y # pulse operator\n",
    "detOp = I1x + 1j*I1y # detection operator\n",
    "\n",
    "rho_eq = I1z\n",
    "\n",
    "dt = 10e-6 # sampling step, \"dwell time\"\n",
    "nPoints = 1024*4 # length of acquisition\n",
    "t=np.arange(nPoints)*dt # time vector\n",
    "\n",
    "sig = np.zeros(nPoints,dtype=complex) # pre-allocation of signal vector"
   ]
  },
  {
   "cell_type": "markdown",
   "id": "cf7a4e72",
   "metadata": {},
   "source": [
    "### 5) Actual simulation"
   ]
  },
  {
   "cell_type": "code",
   "execution_count": 6,
   "id": "a83cb571",
   "metadata": {},
   "outputs": [],
   "source": [
    "#convert everything to Liouville space\n",
    "H0_L = np.kron(H0,E)-np.kron(E,H0.T)\n",
    "rho0_L = rho0.T.flatten()\n",
    "pulseOp_L = np.kron(pulseOp,E)-np.kron(E,pulseOp.T)\n",
    "detOp_L = detOp.conj().T.flatten()\n",
    "\n",
    "rho_eq_L = rho_eq.T.flatten()\n",
    "\n",
    "\n",
    "I1x_doub_comm = np.linalg.matrix_power(np.kron(I1x,E)-np.kron(E,I1x.T),2)\n",
    "I1y_doub_comm = np.linalg.matrix_power(np.kron(I1y,E)-np.kron(E,I1y.T),2)\n",
    "I1z_doub_comm = np.linalg.matrix_power(np.kron(I1z,E)-np.kron(E,I1z.T),2)\n",
    "\n",
    "I2x_doub_comm = np.linalg.matrix_power(np.kron(I2x,E)-np.kron(E,I2x.T),2)\n",
    "I2y_doub_comm = np.linalg.matrix_power(np.kron(I2y,E)-np.kron(E,I2y.T),2)\n",
    "I2z_doub_comm = np.linalg.matrix_power(np.kron(I2z,E)-np.kron(E,I2z.T),2)\n",
    "\n",
    "#generate Relaxation superoperator\n",
    "R = k_z_1*(I1z_doub_comm)+k_xy_1*(I1x_doub_comm+I1y_doub_comm)\\\n",
    "   +k_z_2*(I2z_doub_comm)+k_xy_2*(I2x_doub_comm+I2y_doub_comm)\n",
    "\n",
    "\n",
    "# start sim\n",
    "rho_L = rho0_L\n",
    "\n",
    "# apply pulse propagator to initial density operator\n",
    "Upulse_L = expm(-1j*np.pi/2*pulseOp_L)\n",
    "rho_L = Upulse_L@rho_L\n",
    "\n",
    "# build propagator of free evolution, and acquire\n",
    "U0_L = expm(-1j*2*np.pi*H0_L*dt-R*dt);\n",
    "\n",
    "for i in range(nPoints):\n",
    "    sig[i]= rho_L@detOp_L # detect\n",
    "    rho_L = rho_eq_L+U0_L@(rho_L-rho_eq_L); # propagation\n"
   ]
  },
  {
   "cell_type": "markdown",
   "id": "df5c06cf",
   "metadata": {},
   "source": [
    "### 6) Plot real and imaginary part"
   ]
  },
  {
   "cell_type": "code",
   "execution_count": 7,
   "id": "8de6752b",
   "metadata": {},
   "outputs": [
    {
     "data": {
      "text/plain": [
       "<matplotlib.legend.Legend at 0x7feda09def98>"
      ]
     },
     "execution_count": 7,
     "metadata": {},
     "output_type": "execute_result"
    },
    {
     "data": {
      "image/png": "[encoded data removed]",
      "text/plain": [
       "<Figure size 432x288 with 1 Axes>"
      ]
     },
     "metadata": {
      "needs_background": "light"
     },
     "output_type": "display_data"
    }
   ],
   "source": [
    "ax=plt.subplots()[1]\n",
    "ax.plot(t*1e3,sig.real,color='blue')\n",
    "ax.plot(t*1e3,sig.imag,color='red')\n",
    "ax.set_title('raw signal')\n",
    "ax.set_xlabel('t / ms')\n",
    "ax.set_ylabel('signal / a.u.')\n",
    "ax.legend(('Re','Im'))"
   ]
  },
  {
   "cell_type": "markdown",
   "id": "47b08b6b",
   "metadata": {},
   "source": [
    "### 7) Apodize, i.e. multiply with window function"
   ]
  },
  {
   "cell_type": "code",
   "execution_count": 8,
   "id": "70b653d3",
   "metadata": {},
   "outputs": [],
   "source": [
    "twin = np.inf #Apodization parameter (no apodizaion)\n",
    "win = np.exp(-t/twin)\n",
    "\n",
    "#Apply window to signal\n",
    "sig_apo = sig*win\n",
    "\n",
    "# ax=plt.subplots()[1]\n",
    "# ax.plot(t*1e3,sig_apo.real,color='red')\n",
    "# ax.plot(t*1e3,sig_apo.imag,color='blue')\n",
    "# ax.set_title('Apodized signal')\n",
    "# ax.set_xlabel('t / ms')\n",
    "# ax.set_ylabel('signal / a.u.')\n",
    "# ax.legend(('Re','Im'))"
   ]
  },
  {
   "cell_type": "markdown",
   "id": "390983d2",
   "metadata": {},
   "source": [
    "### 8) Fourier transform with zero-filling, construction of the frequency vector"
   ]
  },
  {
   "cell_type": "code",
   "execution_count": 9,
   "id": "ece529cb",
   "metadata": {},
   "outputs": [
    {
     "data": {
      "text/plain": [
       "(0.0, 15.0)"
      ]
     },
     "execution_count": 9,
     "metadata": {},
     "output_type": "execute_result"
    },
    {
     "data": {
      "image/png": "[encoded data removed]",
      "text/plain": [
       "<Figure size 432x288 with 1 Axes>"
      ]
     },
     "metadata": {
      "needs_background": "light"
     },
     "output_type": "display_data"
    }
   ],
   "source": [
    "sig_apo[0]/=2 #Divide first point by 2 to get correct baseline\n",
    "spec=np.fft.fftshift(np.fft.fft(sig_apo,2*nPoints))*dt\n",
    "\n",
    "#Frequency vector\n",
    "N=spec.size\n",
    "nyqFreq = 1/(2*dt)\n",
    "unitAxis=2/N*(np.arange(N)-N//2)\n",
    "freq = nyqFreq*unitAxis\n",
    "\n",
    "ax=plt.subplots()[1]\n",
    "ax.plot(freq/1e3,spec.real,color='blue')\n",
    "ax.plot(freq/1e3,spec.imag,color='red')\n",
    "ax.plot(freq/1e3,np.abs(spec),color='black')\n",
    "ax.set_title('spectrum')\n",
    "ax.legend(('Re','Im','Abs'))\n",
    "\n",
    "ax.set_xlim([0,15])"
   ]
  },
  {
   "cell_type": "markdown",
   "id": "03bd7a24",
   "metadata": {},
   "source": [
    "### 9) Basis transformation"
   ]
  },
  {
   "cell_type": "code",
   "execution_count": 11,
   "id": "8083758d",
   "metadata": {},
   "outputs": [
    {
     "name": "stdout",
     "output_type": "stream",
     "text": [
      "B*B':\n",
      "[[1.+0.j 0.+0.j 0.+0.j 0.+0.j 0.+0.j 0.+0.j 0.+0.j 0.+0.j 0.+0.j 0.+0.j\n",
      "  0.+0.j 0.+0.j 0.+0.j 0.+0.j 0.+0.j 0.+0.j]\n",
      " [0.+0.j 1.+0.j 0.+0.j 0.+0.j 0.+0.j 0.+0.j 0.+0.j 0.+0.j 0.+0.j 0.+0.j\n",
      "  0.+0.j 0.+0.j 0.+0.j 0.+0.j 0.+0.j 0.+0.j]\n",
      " [0.+0.j 0.+0.j 1.+0.j 0.+0.j 0.+0.j 0.+0.j 0.+0.j 0.+0.j 0.+0.j 0.+0.j\n",
      "  0.+0.j 0.+0.j 0.+0.j 0.+0.j 0.+0.j 0.+0.j]\n",
      " [0.+0.j 0.+0.j 0.+0.j 1.+0.j 0.+0.j 0.+0.j 0.+0.j 0.+0.j 0.+0.j 0.+0.j\n",
      "  0.+0.j 0.+0.j 0.+0.j 0.+0.j 0.+0.j 0.+0.j]\n",
      " [0.+0.j 0.+0.j 0.+0.j 0.+0.j 1.+0.j 0.+0.j 0.+0.j 0.+0.j 0.+0.j 0.+0.j\n",
      "  0.+0.j 0.+0.j 0.+0.j 0.+0.j 0.+0.j 0.+0.j]\n",
      " [0.+0.j 0.+0.j 0.+0.j 0.+0.j 0.+0.j 1.+0.j 0.+0.j 0.+0.j 0.+0.j 0.+0.j\n",
      "  0.+0.j 0.+0.j 0.+0.j 0.+0.j 0.+0.j 0.+0.j]\n",
      " [0.+0.j 0.+0.j 0.+0.j 0.+0.j 0.+0.j 0.+0.j 1.+0.j 0.+0.j 0.+0.j 0.+0.j\n",
      "  0.+0.j 0.+0.j 0.+0.j 0.+0.j 0.+0.j 0.+0.j]\n",
      " [0.+0.j 0.+0.j 0.+0.j 0.+0.j 0.+0.j 0.+0.j 0.+0.j 1.+0.j 0.+0.j 0.+0.j\n",
      "  0.+0.j 0.+0.j 0.+0.j 0.+0.j 0.+0.j 0.+0.j]\n",
      " [0.+0.j 0.+0.j 0.+0.j 0.+0.j 0.+0.j 0.+0.j 0.+0.j 0.+0.j 1.+0.j 0.+0.j\n",
      "  0.+0.j 0.+0.j 0.+0.j 0.+0.j 0.+0.j 0.+0.j]\n",
      " [0.+0.j 0.+0.j 0.+0.j 0.+0.j 0.+0.j 0.+0.j 0.+0.j 0.+0.j 0.+0.j 1.+0.j\n",
      "  0.+0.j 0.+0.j 0.+0.j 0.+0.j 0.+0.j 0.+0.j]\n",
      " [0.+0.j 0.+0.j 0.+0.j 0.+0.j 0.+0.j 0.+0.j 0.+0.j 0.+0.j 0.+0.j 0.+0.j\n",
      "  1.+0.j 0.+0.j 0.+0.j 0.+0.j 0.+0.j 0.+0.j]\n",
      " [0.+0.j 0.+0.j 0.+0.j 0.+0.j 0.+0.j 0.+0.j 0.+0.j 0.+0.j 0.+0.j 0.+0.j\n",
      "  0.+0.j 1.+0.j 0.+0.j 0.+0.j 0.+0.j 0.+0.j]\n",
      " [0.+0.j 0.+0.j 0.+0.j 0.+0.j 0.+0.j 0.+0.j 0.+0.j 0.+0.j 0.+0.j 0.+0.j\n",
      "  0.+0.j 0.+0.j 1.+0.j 0.+0.j 0.+0.j 0.+0.j]\n",
      " [0.+0.j 0.+0.j 0.+0.j 0.+0.j 0.+0.j 0.+0.j 0.+0.j 0.+0.j 0.+0.j 0.+0.j\n",
      "  0.+0.j 0.+0.j 0.+0.j 1.+0.j 0.+0.j 0.+0.j]\n",
      " [0.+0.j 0.+0.j 0.+0.j 0.+0.j 0.+0.j 0.+0.j 0.+0.j 0.+0.j 0.+0.j 0.+0.j\n",
      "  0.+0.j 0.+0.j 0.+0.j 0.+0.j 1.+0.j 0.+0.j]\n",
      " [0.+0.j 0.+0.j 0.+0.j 0.+0.j 0.+0.j 0.+0.j 0.+0.j 0.+0.j 0.+0.j 0.+0.j\n",
      "  0.+0.j 0.+0.j 0.+0.j 0.+0.j 0.+0.j 1.+0.j]]\n"
     ]
    }
   ],
   "source": [
    "Op=[E,I1z,I2z,I1z@I2z,\n",
    "    I1x,I2x,I1y,I2y,\n",
    "    I1x@I2z,I1z@I2x,I1y@I2z,I1z@I2y,\n",
    "    I1x@I2x,I1y@I2y,I1x@I2y,I1y@I2x]\n",
    "\n",
    "B=np.zeros([len(Op),len(Op)],dtype=complex)\n",
    "for k,op in enumerate(Op):\n",
    "    B[:,k]=op.T.flatten()\n",
    "    B[:,k]=B[:,k]/np.sqrt(B[:,k].conj()@B[:,k])  #Normalize eigenvectors\n",
    "    \n",
    "#Check that B is unitary\n",
    "print(\"B*B':\")\n",
    "print(B@B.conj().T)\n",
    "    \n",
    "#Convert to Operator basis\n",
    "H0_L_B = B.conj().T@H0_L@B\n",
    "rho0_L_B = B.conj().T@rho0_L\n",
    "pulseOp_L_B = B.conj().T@pulseOp_L@B\n",
    "detOp_L_B = B.conj().T@detOp_L\n",
    "rho_eq_L_B = B.conj().T@rho_eq_L\n",
    "R_B=B.conj()@R@B"
   ]
  },
  {
   "cell_type": "code",
   "execution_count": null,
   "id": "3698a2eb",
   "metadata": {},
   "outputs": [],
   "source": []
  }
 ],
 "metadata": {
  "kernelspec": {
   "display_name": "Python 3",
   "language": "python",
   "name": "python3"
  },
  "language_info": {
   "codemirror_mode": {
    "name": "ipython",
    "version": 3
   },
   "file_extension": ".py",
   "mimetype": "text/x-python",
   "name": "python",
   "nbconvert_exporter": "python",
   "pygments_lexer": "ipython3",
   "version": "3.7.3"
  }
 },
 "nbformat": 4,
 "nbformat_minor": 5
}
