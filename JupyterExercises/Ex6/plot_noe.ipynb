{
 "cells": [
  {
   "cell_type": "markdown",
   "metadata": {},
   "source": [
    "<a href=\"https://githubtocolab.com/alsinmr/WindeschleubaNMRSchool/blob/main/JupyterExercises/Ex6/plot_noe.ipynb\" target=\"_parent\"><img src=\"https://colab.research.google.com/assets/colab-badge.svg\" alt=\"Open In Colab\"/></a>"
   ]
  },
  {
   "cell_type": "markdown",
   "metadata": {
    "id": "y3rGalkF7LMQ"
   },
   "source": [
    "## Plot NOE between H and N spins"
   ]
  },
  {
   "cell_type": "markdown",
   "metadata": {
    "id": "PQirAejv7Rrv"
   },
   "source": [
    "### 1) Imports and definitions of functions to calculate relaxation rate constants"
   ]
  },
  {
   "cell_type": "code",
   "execution_count": 1,
   "metadata": {
    "executionInfo": {
     "elapsed": 5,
     "status": "ok",
     "timestamp": 1664885811215,
     "user": {
      "displayName": "Andy Smith",
      "userId": "01721244601111506142"
     },
     "user_tz": -120
    },
    "id": "1eLetPbg7SQ4"
   },
   "outputs": [],
   "source": [
    "import numpy as np\n",
    "import matplotlib.pyplot as plt\n",
    "from scipy.linalg import expm\n",
    "\n",
    "def J(omega,tau):\n",
    "    return 2/5*tau/(1+(omega*tau)**2)\n",
    "\n",
    "def T1(delta,sigmazzS,omegaI,omegaS,tau):\n",
    "    return ((delta/4)**2*(1*J(omegaI-omegaS,tau)+3*J(omegaS,tau)+6*J(omegaI+omegaS,tau))+\\\n",
    "            3/4*(sigmazzS*omegaS)**2*J(omegaS,tau))**(-1)\n",
    "\n",
    "def T1x(delta,omegaI,omegaS,tau):\n",
    "    return ((delta/4)**2*(-1*J(omegaI-omegaS,tau)+6*J(omegaI+omegaS,tau)))**(-1)"
   ]
  },
  {
   "cell_type": "markdown",
   "metadata": {
    "id": "CRjhqQDu7ixL"
   },
   "source": [
    "### 2) Define constants"
   ]
  },
  {
   "cell_type": "code",
   "execution_count": 2,
   "metadata": {
    "executionInfo": {
     "elapsed": 8,
     "status": "ok",
     "timestamp": 1664885929774,
     "user": {
      "displayName": "Andy Smith",
      "userId": "01721244601111506142"
     },
     "user_tz": -120
    },
    "id": "G9aSIbp57kb6"
   },
   "outputs": [],
   "source": [
    "gammaH = 26.7522128e7               #rad / s / T\n",
    "gammaN = -2.7116e7                  #rad / s / T\n",
    "omegaS = 14.1*gammaN\n",
    "omegaI = 14.1*gammaH\n",
    "mu0 = 4*np.pi*1e-7                  #V s / A / m\n",
    "mu04pi = 1e-7\n",
    "hbar = 1.05457266e-34               #J s / rad\n",
    "h = 2*np.pi*hbar                    #J s\n",
    "rNH = 1.1*1e-10;                    #m \n"
   ]
  },
  {
   "cell_type": "markdown",
   "metadata": {
    "id": "ThChzrCh7z5m"
   },
   "source": [
    "### 3) Calculate eta"
   ]
  },
  {
   "cell_type": "code",
   "execution_count": 3,
   "metadata": {
    "executionInfo": {
     "elapsed": 9,
     "status": "ok",
     "timestamp": 1664886147542,
     "user": {
      "displayName": "Andy Smith",
      "userId": "01721244601111506142"
     },
     "user_tz": -120
    },
    "id": "AgwglwuC74BH"
   },
   "outputs": [],
   "source": [
    "tauc = 10**np.arange(-12,-5+0.01,0.01)\n",
    "delta = -2*mu04pi*gammaN*gammaH*hbar/rNH**3\n",
    "sigmazz00=0\n",
    "\n",
    "T1S = T1(delta,sigmazz00,omegaI,omegaS,tauc)\n",
    "T1IS = T1x(delta,omegaS,omegaI,tauc)\n",
    "\n",
    "eta=T1S/T1IS*gammaH/gammaN"
   ]
  },
  {
   "cell_type": "markdown",
   "metadata": {
    "id": "1rhmEk8W8qx1"
   },
   "source": [
    "### 4) Plot the results"
   ]
  },
  {
   "cell_type": "code",
   "execution_count": 4,
   "metadata": {
    "colab": {
     "base_uri": "https://localhost:8080/",
     "height": 312
    },
    "executionInfo": {
     "elapsed": 1272,
     "status": "ok",
     "timestamp": 1664886509488,
     "user": {
      "displayName": "Andy Smith",
      "userId": "01721244601111506142"
     },
     "user_tz": -120
    },
    "id": "O_YVokrS8r_Q",
    "outputId": "37852970-cf0e-4f60-f344-a1cf2556799a"
   },
   "outputs": [
    {
     "data": {
      "text/plain": [
       "Text(0.5, 0, '$\\\\omega_0^{(S)}\\\\tau_c$')"
      ]
     },
     "execution_count": 4,
     "metadata": {},
     "output_type": "execute_result"
    },
    {
     "data": {
      "image/png": "[encoded data removed]",
      "text/plain": [
       "<Figure size 432x288 with 1 Axes>"
      ]
     },
     "metadata": {
      "needs_background": "light"
     },
     "output_type": "display_data"
    }
   ],
   "source": [
    "ax=plt.figure().add_subplot(111)\n",
    "ax.semilogx(-omegaS*tauc,eta,color='blue')\n",
    "ax.set_ylabel(r'$\\eta$')\n",
    "ax.set_xlim([1e3,1e-3])\n",
    "ax.set_ylim([-6,1])\n",
    "ax.invert_xaxis()\n",
    "ax.set_xlabel(r'$\\omega_0^{(S)}\\tau_c$')"
   ]
  },
  {
   "cell_type": "code",
   "execution_count": null,
   "metadata": {
    "id": "WS2KnWiJ9YPW"
   },
   "outputs": [],
   "source": []
  }
 ],
 "metadata": {
  "colab": {
   "authorship_tag": "ABX9TyPYysW+0jG6dRUw4kqkrGi/",
   "collapsed_sections": [],
   "provenance": []
  },
  "kernelspec": {
   "display_name": "Python 3",
   "language": "python",
   "name": "python3"
  },
  "language_info": {
   "codemirror_mode": {
    "name": "ipython",
    "version": 3
   },
   "file_extension": ".py",
   "mimetype": "text/x-python",
   "name": "python",
   "nbconvert_exporter": "python",
   "pygments_lexer": "ipython3",
   "version": "3.7.3"
  }
 },
 "nbformat": 4,
 "nbformat_minor": 1
}
