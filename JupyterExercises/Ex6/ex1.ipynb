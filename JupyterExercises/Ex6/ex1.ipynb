{
 "cells": [
  {
   "cell_type": "markdown",
   "metadata": {},
   "source": [
    "<a href=\"https://githubtocolab.com/alsinmr/WindeschleubaNMRSchool/blob/main/JupyterExercises/Ex6/ex1.ipynb\" target=\"_parent\"><img src=\"https://colab.research.google.com/assets/colab-badge.svg\" alt=\"Open In Colab\"/></a>"
   ]
  },
  {
   "cell_type": "markdown",
   "metadata": {},
   "source": [
    "## Coupled Relaxation Modes "
   ]
  },
  {
   "cell_type": "markdown",
   "metadata": {
    "id": "WA146gQTwRKQ"
   },
   "source": [
    "### 1) Imports and definitions of functions to calculate relaxation rate constants"
   ]
  },
  {
   "cell_type": "code",
   "execution_count": 2,
   "metadata": {
    "executionInfo": {
     "elapsed": 257,
     "status": "ok",
     "timestamp": 1664884658116,
     "user": {
      "displayName": "Andy Smith",
      "userId": "01721244601111506142"
     },
     "user_tz": -120
    },
    "id": "reoglbfcwYcD"
   },
   "outputs": [],
   "source": [
    "import numpy as np\n",
    "import matplotlib.pyplot as plt\n",
    "from scipy.linalg import expm\n",
    "\n",
    "def J(omega,tau):\n",
    "  return 2/5*tau/(1+(omega*tau)**2)\n",
    "\n",
    "def T1(delta,sigmazzS,omegaI,omegaS,tau):\n",
    "  return ((delta/4)**2*(1*J(omegaI-omegaS,tau)+3*J(omegaS,tau)+6*J(omegaI+omegaS,tau))+\\\n",
    "            3/4*(sigmazzS*omegaS)**2*J(omegaS,tau))**(-1)\n",
    "\n",
    "def T1x(delta,omegaI,omegaS,tau):\n",
    "  return ((delta/4)**2*(-1*J(omegaI-omegaS,tau)+6*J(omegaI+omegaS,tau)))**(-1)"
   ]
  },
  {
   "cell_type": "markdown",
   "metadata": {
    "id": "CWRdAKba1SkG"
   },
   "source": [
    "### 2) Define constants"
   ]
  },
  {
   "cell_type": "code",
   "execution_count": 3,
   "metadata": {
    "executionInfo": {
     "elapsed": 238,
     "status": "ok",
     "timestamp": 1664884305239,
     "user": {
      "displayName": "Andy Smith",
      "userId": "01721244601111506142"
     },
     "user_tz": -120
    },
    "id": "xJ8Jzknp1UJq"
   },
   "outputs": [],
   "source": [
    "mu0 = 4*np.pi*1e-7                 #V s / A / m\n",
    "mu04pi = 1e-7\n",
    "hbar = 1.05457266e-34              #J s / rad\n",
    "h = 2*np.pi*hbar                   #J s\n",
    "gammaH = 26.7522128e7              #rad / s / T\n",
    "gammaN = -2.7116e7                 #rad / s / T\n",
    "rNH = 1.1*1e-10                    #m \n",
    "omegaS = 14.1*gammaN\n",
    "omegaI = 14.1*gammaH\n",
    "deltaHN = -2*mu04pi*gammaN*gammaH*hbar/rNH**3\n",
    "sigmazz00=0\n",
    "tauc=1e-10"
   ]
  },
  {
   "cell_type": "markdown",
   "metadata": {
    "id": "q4L08Kpg1oE9"
   },
   "source": [
    "### 3) Calculate solution (CSA=0)"
   ]
  },
  {
   "cell_type": "code",
   "execution_count": 4,
   "metadata": {
    "executionInfo": {
     "elapsed": 985,
     "status": "ok",
     "timestamp": 1664884662367,
     "user": {
      "displayName": "Andy Smith",
      "userId": "01721244601111506142"
     },
     "user_tz": -120
    },
    "id": "pOYr5GFd1tOJ"
   },
   "outputs": [],
   "source": [
    "T1S = T1(deltaHN,sigmazz00,omegaI,omegaS,tauc)\n",
    "T1I = T1(deltaHN,sigmazz00,omegaS,omegaI,tauc)\n",
    "T1IS = T1x(deltaHN,omegaS,omegaI,tauc);\n",
    "R = np.array([[1/T1I,1/T1IS],[1/T1IS,1/T1S]]);\n",
    "t = np.arange(0,15.01,.01)\n",
    "Sz=np.zeros(len(t))\n",
    "Iz=np.zeros(len(t))\n",
    "for k,t0 in enumerate(t): \n",
    "    z = expm(-R*t0)@np.array([[0],[-2]])+np.array([[10],[1]])\n",
    "    Iz[k]=z[0]\n",
    "    Sz[k]=z[1]"
   ]
  },
  {
   "cell_type": "markdown",
   "metadata": {
    "id": "eV7vfYtK2-9-"
   },
   "source": [
    "### 4) Plot the results"
   ]
  },
  {
   "cell_type": "code",
   "execution_count": 5,
   "metadata": {
    "colab": {
     "base_uri": "https://localhost:8080/",
     "height": 299
    },
    "executionInfo": {
     "elapsed": 990,
     "status": "ok",
     "timestamp": 1664884891011,
     "user": {
      "displayName": "Andy Smith",
      "userId": "01721244601111506142"
     },
     "user_tz": -120
    },
    "id": "MFxilDoS20s2",
    "outputId": "7e5e7a23-7d1f-4b4b-b735-5a960b2c7bab"
   },
   "outputs": [
    {
     "data": {
      "text/plain": [
       "<matplotlib.legend.Legend at 0x7f89704e47b8>"
      ]
     },
     "execution_count": 5,
     "metadata": {},
     "output_type": "execute_result"
    },
    {
     "data": {
      "image/png": "[encoded data removed]",
      "text/plain": [
       "<Figure size 432x288 with 1 Axes>"
      ]
     },
     "metadata": {
      "needs_background": "light"
     },
     "output_type": "display_data"
    }
   ],
   "source": [
    "ax=plt.subplots()[1]\n",
    "ax.plot(t,Sz)\n",
    "ax.plot(t,np.exp(-t/T1S)*(-2)+1)\n",
    "ax.set_ylabel(r'<S$_z$($t$)>')\n",
    "ax.set_xlabel(r'$t$ / s')\n",
    "ax.legend(['coupled system',r'$T_1$ decay'])"
   ]
  }
 ],
 "metadata": {
  "colab": {
   "authorship_tag": "ABX9TyPWYC+TUBDWaKQZf+GYZIAw",
   "collapsed_sections": [],
   "provenance": []
  },
  "kernelspec": {
   "display_name": "Python 3",
   "language": "python",
   "name": "python3"
  },
  "language_info": {
   "codemirror_mode": {
    "name": "ipython",
    "version": 3
   },
   "file_extension": ".py",
   "mimetype": "text/x-python",
   "name": "python",
   "nbconvert_exporter": "python",
   "pygments_lexer": "ipython3",
   "version": "3.7.3"
  }
 },
 "nbformat": 4,
 "nbformat_minor": 1
}
