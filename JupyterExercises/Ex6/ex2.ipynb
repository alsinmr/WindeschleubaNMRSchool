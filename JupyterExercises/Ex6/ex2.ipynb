{
 "cells": [
  {
   "cell_type": "markdown",
   "id": "c5e27d12",
   "metadata": {},
   "source": [
    "<a href=\"https://githubtocolab.com/alsinmr/WindeschleubaNMRSchool/blob/main/JupyterExercises/Ex6/ex2.ipynb\" target=\"_parent\"><img src=\"https://colab.research.google.com/assets/colab-badge.svg\" alt=\"Open In Colab\"/></a>"
   ]
  },
  {
   "cell_type": "markdown",
   "id": "d216c484",
   "metadata": {},
   "source": [
    "## Coupled Relaxation Modes including $2I_zS_z$ spin order"
   ]
  },
  {
   "cell_type": "markdown",
   "id": "2b8ba7f2",
   "metadata": {},
   "source": [
    "### 1) Imports, functions"
   ]
  },
  {
   "cell_type": "code",
   "execution_count": null,
   "id": "fff2c3ba",
   "metadata": {},
   "outputs": [],
   "source": [
    "import numpy as np\n",
    "import matplotlib.pyplot as plt\n",
    "from scipy.linalg import expm\n",
    "\n",
    "def J(omega,tau):\n",
    "  return 2/5*tau/(1+(omega*tau)**2)\n",
    "\n",
    "def T1(delta,sigmazzS,omegaI,omegaS,tau):\n",
    "  return ((delta/4)**2*(1*J(omegaI-omegaS,tau)+3*J(omegaS,tau)+6*J(omegaI+omegaS,tau))+\\\n",
    "            3/4*(sigmazzS*omegaS)**2*J(omegaS,tau))**(-1)\n",
    "\n",
    "def T1x(delta,omegaI,omegaS,tau):\n",
    "  return ((delta/4)**2*(-1*J(omegaI-omegaS,tau)+6*J(omegaI+omegaS,tau)))**(-1)\n",
    "\n",
    "def T1z(delta,sigmazzI,sigmazzS,omegaI,omegaS,tau):\n",
    "    return ((delta/4)**2*(3*J(omegaI,tau)+3*J(omegaS,tau))+\\\n",
    "            3/4*(sigmazzS*omegaS)**2*J(omegaS,tau)+3/4*(sigmazzI*omegaI)**2*J(omegaI,tau))**(-1)\n",
    "\n",
    "def T1y(delta,sigmazzS,omegaS,tau):\n",
    "    return (3/4*delta*sigmazzS*omegaS*J(omegaS,tau))**(-1)"
   ]
  },
  {
   "cell_type": "markdown",
   "id": "24491a14",
   "metadata": {},
   "source": [
    "### 2) Define constants"
   ]
  },
  {
   "cell_type": "code",
   "execution_count": null,
   "id": "422d58bf",
   "metadata": {},
   "outputs": [],
   "source": [
    "mu0 = 4*np.pi*1e-7                 # V s / A / m\n",
    "mu04pi = 1e-7\n",
    "hbar = 1.05457266e-34              # J s / rad\n",
    "h = 2*np.pi*hbar                   # J s\n",
    "gammaH = 26.7522128e7              # rad / s / T\n",
    "gammaN = -2.7116e7                 # rad / s / T\n",
    "rNH = 1.1*1e-10                    # m \n",
    "deltaHN = -2*mu04pi*gammaN*gammaH*hbar/rNH**3\n",
    "omegaH = 14.1*gammaH\n",
    "omegaN = 14.1*gammaN\n",
    "tauc=1e-10\n"
   ]
  },
  {
   "cell_type": "markdown",
   "id": "e8f84a28",
   "metadata": {},
   "source": [
    "### 3) Calculate Solution with CSA and cross-correlated cross-relaxation"
   ]
  },
  {
   "cell_type": "code",
   "execution_count": null,
   "id": "29bfbd8f",
   "metadata": {},
   "outputs": [],
   "source": [
    "sigmazzH = 100e-6\n",
    "sigmazzN = 100e-6\n",
    "\n",
    "T1SS = T1(deltaHN,sigmazzN,omegaH,omegaN,tauc)\n",
    "T1II = T1(deltaHN,sigmazzH,omegaN,omegaH,tauc)\n",
    "T1IS = T1x(deltaHN,omegaN,omegaH,tauc)\n",
    "T1ISIS = T1z(deltaHN, sigmazzH, sigmazzN, omegaH, omegaN, tauc)\n",
    "T1ISI = T1y(deltaHN, sigmazzH, omegaH, tauc)\n",
    "T1ISS = T1y(deltaHN, sigmazzN, omegaN, tauc)\n",
    "\n",
    "R = np.array([[1/T1II ,  1/T1IS  , 1/T1ISI],\n",
    "              [1/T1IS ,  1/T1SS  , 1/T1ISS],\n",
    "              [1/T1ISI, 1/T1ISS , 1/T1ISIS]])\n",
    " \n",
    "t = np.arange(0,15.01,.01)\n",
    "Sz=np.zeros(len(t))\n",
    "Iz=np.zeros(len(t));\n",
    "IzSz = np.zeros(len(t));\n",
    "for k,t0 in enumerate(t):  \n",
    "    z = expm(-R*t0)@np.array([[0],[-2],[0]])-np.array([[gammaH/gammaN],[-1],[0]])\n",
    "    Iz[k]=z[0]\n",
    "    Sz[k]=z[1]\n",
    "    IzSz[k]=z[2]"
   ]
  },
  {
   "cell_type": "markdown",
   "id": "541ec848",
   "metadata": {},
   "source": [
    "### 4) Plot results"
   ]
  },
  {
   "cell_type": "code",
   "execution_count": null,
   "id": "1d20ff7f",
   "metadata": {},
   "outputs": [],
   "source": [
    "ax=plt.subplots()[1]\n",
    "ax.plot(t,np.exp(-t/T1SS)*(-2)+1)\n",
    "ax.plot(t,Sz)\n",
    "ax.set_ylabel(r'<S$_z$($t$)>')\n",
    "ax.set_xlabel(r'$t$ / s')\n",
    "ax.legend([r'$T_1$ decay','coupled system'])"
   ]
  },
  {
   "cell_type": "markdown",
   "id": "d4a8f5fe",
   "metadata": {},
   "source": [
    "### 5) Calculate Solution with CSA and without cross-correlated cross-relaxation"
   ]
  },
  {
   "cell_type": "code",
   "execution_count": null,
   "id": "f4c8f93d",
   "metadata": {},
   "outputs": [],
   "source": [
    "sigmazz00 = 100e-6\n",
    "\n",
    "T1SS = T1(deltaHN,sigmazz00,omegaH,omegaN,tauc)\n",
    "T1II = T1(deltaHN,sigmazz00,omegaN,omegaH,tauc)\n",
    "T1IS = T1x(deltaHN,omegaN,omegaH,tauc)\n",
    "R = np.array([[1/T1II,1/T1IS],[1/T1IS,1/T1SS]])\n",
    "t = np.arange(0,15.01,.01)\n",
    "Sz2=np.zeros(len(t))\n",
    "Iz=np.zeros(len(t))\n",
    "for k,t0 in enumerate(t):  \n",
    "    z = expm(-R*t0)@np.array([[0],[-2]])+np.array([[10],[1]]);\n",
    "    Iz[k]=z[0];\n",
    "    Sz2[k]=z[1];\n"
   ]
  },
  {
   "cell_type": "markdown",
   "id": "ac7b6efa",
   "metadata": {},
   "source": [
    "Print the results"
   ]
  },
  {
   "cell_type": "code",
   "execution_count": null,
   "id": "c012af01",
   "metadata": {},
   "outputs": [],
   "source": [
    "ax=plt.figure().add_subplot(111)\n",
    "ax.plot(t,np.exp(-t/T1SS)*(-2)+1)\n",
    "ax.plot(t,Sz2)\n",
    "ax.set_ylabel(r'<S$_z$($t$)>')\n",
    "ax.set_xlabel(r'$t$ / s')\n",
    "ax.legend([r'$T_1$ decay','coupled system'])"
   ]
  },
  {
   "cell_type": "code",
   "execution_count": null,
   "id": "127e0e95",
   "metadata": {},
   "outputs": [],
   "source": []
  }
 ],
 "metadata": {
  "kernelspec": {
   "display_name": "Python 3",
   "language": "python",
   "name": "python3"
  },
  "language_info": {
   "codemirror_mode": {
    "name": "ipython",
    "version": 3
   },
   "file_extension": ".py",
   "mimetype": "text/x-python",
   "name": "python",
   "nbconvert_exporter": "python",
   "pygments_lexer": "ipython3",
   "version": "3.7.3"
  }
 },
 "nbformat": 4,
 "nbformat_minor": 5
}
