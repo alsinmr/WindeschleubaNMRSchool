{
 "cells": [
  {
   "cell_type": "markdown",
   "id": "3b39a008",
   "metadata": {},
   "source": [
    "<a href=\"https://githubtocolab.com/alsinmr/WindeschleubaNMRSchool/blob/main/JupyterExercises/Sol2/sol3_one_spin_CSA_pulse_acquire.ipynb\" target=\"_parent\"><img src=\"https://colab.research.google.com/assets/colab-badge.svg\" alt=\"Open In Colab\"/></a>"
   ]
  },
  {
   "cell_type": "markdown",
   "id": "932a3c58",
   "metadata": {},
   "source": [
    "## One-spin pulse acquire with chemical shift anisotropy"
   ]
  },
  {
   "cell_type": "markdown",
   "id": "67596766",
   "metadata": {},
   "source": [
    "### 1) Imports, functions"
   ]
  },
  {
   "cell_type": "code",
   "execution_count": 1,
   "id": "d302ad44",
   "metadata": {},
   "outputs": [],
   "source": [
    "import numpy as np\n",
    "import matplotlib.pyplot as plt\n",
    "from scipy.io import loadmat\n",
    "from scipy.linalg import expm\n",
    "\n",
    "def erot(alpha,beta,gamma):\n",
    "    sa = np.sin(alpha)\n",
    "    ca = np.cos(alpha)\n",
    "    sb = np.sin(beta)\n",
    "    cb = np.cos(beta)\n",
    "    sg = np.sin(gamma)\n",
    "    cg = np.cos(gamma)\n",
    "\n",
    "    # Return passive rotation matrix\n",
    "    return np.array([[cg*cb*ca-sg*sa,   cg*cb*sa+sg*ca,  -cg*sb],\n",
    "                     [-sg*cb*ca-cg*sa,  -sg*cb*sa+cg*ca,   sg*sb],\n",
    "                     [sb*ca,            sb*sa,            cb]])"
   ]
  },
  {
   "cell_type": "code",
   "execution_count": null,
   "id": "a609204b",
   "metadata": {},
   "outputs": [],
   "source": [
    "#This cell downloads the powder averages if running in Colab. Otherwise, you should have them already\n",
    "import sys\n",
    "if 'google.colab' in sys.modules:\n",
    "    %git clone https://github.com/alsinmr/WindeschleubaNMRSchool"
   ]
  },
  {
   "cell_type": "markdown",
   "id": "a5081d7c",
   "metadata": {},
   "source": [
    "### 2) Build spin operator matrices"
   ]
  },
  {
   "cell_type": "code",
   "execution_count": 2,
   "id": "6fc92872",
   "metadata": {},
   "outputs": [],
   "source": [
    "Ix = 1/2*np.array([[0,1],[1,0]])\n",
    "Iy = 1/2*np.array([[0,-1j],[1j,0]])\n",
    "Iz = 1/2*np.array([[1,0],[0,-1]])\n",
    "E  = np.eye(2)"
   ]
  },
  {
   "cell_type": "markdown",
   "id": "18aee74f",
   "metadata": {},
   "source": [
    "### 3) Set simulation parameters"
   ]
  },
  {
   "cell_type": "code",
   "execution_count": 3,
   "id": "1008848c",
   "metadata": {},
   "outputs": [],
   "source": [
    "rho0 = Ix #Starting density operator\n",
    "detOp = Ix + 1j*Iy #Detection operator\n",
    "\n",
    "dt = 10e-6  #Sampling step, \"dwell time\"\n",
    "nPoints = 1024  #Length of acquisition\n",
    "t = np.arange(1024)*dt #time vector"
   ]
  },
  {
   "cell_type": "markdown",
   "id": "6ffd44a2",
   "metadata": {},
   "source": [
    "### 4) Give powder parameters\n",
    "CSA tensor, in kHz"
   ]
  },
  {
   "cell_type": "code",
   "execution_count": 4,
   "id": "76337b82",
   "metadata": {},
   "outputs": [],
   "source": [
    "shift_xx = -10e3\n",
    "shift_yy = -5e3\n",
    "shift_zz = 10e3\n",
    "\n",
    "CSA_PAS = np.diag([shift_xx,shift_yy,shift_zz]);\n",
    "\n",
    "# load powder angles and corresponding weights\n",
    "# load leb_2ang_rank_11 % loads angles and corresponding weights\n",
    "#pwd=loadmat('leb_2ang_rank_11.mat')\n",
    "pwd=loadmat('leb_2ang_rank_101.mat')\n",
    "#pwd=loadmat('rep_2ang_6400pts_sph.mat')\n",
    "alphas,betas,gammas,weights=[pwd[k].squeeze() for k in ['alphas','betas','gammas','weights']]"
   ]
  },
  {
   "cell_type": "markdown",
   "id": "43a88176",
   "metadata": {},
   "source": [
    "### 5) Loop over powder angles"
   ]
  },
  {
   "cell_type": "code",
   "execution_count": 5,
   "id": "ca5f4270",
   "metadata": {},
   "outputs": [],
   "source": [
    "sig = np.zeros(nPoints,dtype=complex) #Pre-allocation of signal vector\n",
    "\n",
    "for a,b,g,w in zip(alphas,betas,gammas,weights):\n",
    "    # rotate CSA tensor\n",
    "    R = erot(a,b,g)\n",
    "    CSA_LAB = R@CSA_PAS@R.T;\n",
    "    \n",
    "       \n",
    "    # set Hamiltonian parameters and build the matrix\n",
    "    offset = CSA_LAB[2,2]; \n",
    "    H0 = offset*Iz;\n",
    "    \n",
    "    # build propagator of free evolution, and acquire\n",
    "    U0 = expm(-1j*2*np.pi*H0*dt)\n",
    "    #reset density matrix\n",
    "    rho = rho0;\n",
    "    for it in range(nPoints):\n",
    "        sig[it]+=w*np.trace(detOp@rho) # detect\n",
    "        rho = U0@rho@U0.T.conj() # propagation"
   ]
  },
  {
   "cell_type": "markdown",
   "id": "eff4324c",
   "metadata": {},
   "source": [
    "### 6) Plot real and imaginary part"
   ]
  },
  {
   "cell_type": "code",
   "execution_count": 6,
   "id": "b30e5c4b",
   "metadata": {},
   "outputs": [
    {
     "data": {
      "text/plain": [
       "(0.0, 10.23)"
      ]
     },
     "execution_count": 6,
     "metadata": {},
     "output_type": "execute_result"
    },
    {
     "data": {
      "image/png": "[encoded data removed]",
      "text/plain": [
       "<Figure size 432x288 with 1 Axes>"
      ]
     },
     "metadata": {
      "needs_background": "light"
     },
     "output_type": "display_data"
    }
   ],
   "source": [
    "ax=plt.figure().add_subplot(111)\n",
    "ax.set_title('Raw signal')\n",
    "ax.plot(t*1e3,sig.real,color='blue')\n",
    "ax.plot(t*1e3,sig.imag,color='red')\n",
    "ax.set_xlabel('t / ms')\n",
    "ax.set_ylabel('sigma / a.u.')\n",
    "ax.legend(['Re','Im'])\n",
    "ax.set_xlim([0,t[-1]*1e3])"
   ]
  },
  {
   "cell_type": "markdown",
   "id": "6221f9a2",
   "metadata": {},
   "source": [
    "### 7) Apodize with window function and plot"
   ]
  },
  {
   "cell_type": "code",
   "execution_count": 7,
   "id": "f1dfbcd9",
   "metadata": {},
   "outputs": [
    {
     "data": {
      "text/plain": [
       "(0.0, 10.23)"
      ]
     },
     "execution_count": 7,
     "metadata": {},
     "output_type": "execute_result"
    },
    {
     "data": {
      "image/png": "[encoded data removed]",
      "text/plain": [
       "<Figure size 432x288 with 1 Axes>"
      ]
     },
     "metadata": {
      "needs_background": "light"
     },
     "output_type": "display_data"
    }
   ],
   "source": [
    "twin = 0.2e-3  #Apodization parameter\n",
    "win = np.exp(-t/twin)\n",
    "\n",
    "sig_apo = sig*win #Apply window to signal\n",
    "\n",
    "ax=plt.figure().add_subplot(111)\n",
    "ax.set_title('Apodized signal')\n",
    "ax.plot(t*1e3,sig_apo.real,color='blue')\n",
    "ax.plot(t*1e3,sig_apo.imag,color='red')\n",
    "ax.set_xlabel('t / ms')\n",
    "ax.set_ylabel('sigma / a.u.')\n",
    "ax.legend(['Re','Im'])\n",
    "ax.set_xlim([0,t[-1]*1e3])"
   ]
  },
  {
   "cell_type": "markdown",
   "id": "20055495",
   "metadata": {},
   "source": [
    "### 8) Fourier transform with Zero-filling, construction of frequency vector"
   ]
  },
  {
   "cell_type": "code",
   "execution_count": 8,
   "id": "3a54daf5",
   "metadata": {},
   "outputs": [
    {
     "data": {
      "text/plain": [
       "(-49.99999999999999, 49.95117187499999)"
      ]
     },
     "execution_count": 8,
     "metadata": {},
     "output_type": "execute_result"
    },
    {
     "data": {
      "image/png": "[encoded data removed]",
      "text/plain": [
       "<Figure size 432x288 with 1 Axes>"
      ]
     },
     "metadata": {
      "needs_background": "light"
     },
     "output_type": "display_data"
    }
   ],
   "source": [
    "#fft with zerofilling two twice the original points\n",
    "sig_apo[0]/=2\n",
    "spec = np.fft.fftshift(np.fft.fft(sig_apo,2*nPoints));\n",
    "\n",
    "#frequency vector\n",
    "N=len(spec)\n",
    "nyqFreq = 1/(2*dt)\n",
    "unitAxis = 2/N * (np.arange(N)-np.fix(N/2))\n",
    "freq = nyqFreq * unitAxis;\n",
    "\n",
    "ax=plt.figure().add_subplot(111)\n",
    "ax.set_title('Spectrum')\n",
    "ax.plot(freq/1e3,spec.real,color='blue')\n",
    "#ax.plot(freq/1e3,spec.imag,color='red')\n",
    "#ax.plot(freq/1e3,np.abs(spec),color='black',linestyle='--')\n",
    "ax.set_xlabel('freq / kHz')\n",
    "ax.set_ylabel('Spectrum / a.u.')\n",
    "ax.legend(['Re','Im','Abs'])\n",
    "ax.set_xlim([freq[0]/1e3,freq[-1]/1e3])"
   ]
  },
  {
   "cell_type": "code",
   "execution_count": null,
   "id": "3ad19d38",
   "metadata": {},
   "outputs": [],
   "source": []
  }
 ],
 "metadata": {
  "kernelspec": {
   "display_name": "Python 3",
   "language": "python",
   "name": "python3"
  },
  "language_info": {
   "codemirror_mode": {
    "name": "ipython",
    "version": 3
   },
   "file_extension": ".py",
   "mimetype": "text/x-python",
   "name": "python",
   "nbconvert_exporter": "python",
   "pygments_lexer": "ipython3",
   "version": "3.7.3"
  }
 },
 "nbformat": 4,
 "nbformat_minor": 5
}
