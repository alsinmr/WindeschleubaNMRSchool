{
 "cells": [
  {
   "cell_type": "markdown",
   "id": "35230f5e",
   "metadata": {},
   "source": [
    "<a href=\"https://githubtocolab.com/alsinmr/WindeschleubaNMRSchool/blob/main/JupyterExercises/Sol5/ex05_T1_3_solution.ipynb\" target=\"_parent\"><img src=\"https://colab.research.google.com/assets/colab-badge.svg\" alt=\"Open In Colab\"/></a>"
   ]
  },
  {
   "cell_type": "markdown",
   "id": "065c7c7d",
   "metadata": {},
   "source": [
    "# Spectral Density Functions: T$_1$ Relaxation\n",
    "### Solution to 1.3"
   ]
  },
  {
   "cell_type": "markdown",
   "id": "c4cf7888",
   "metadata": {},
   "source": [
    "### 1) Imports"
   ]
  },
  {
   "cell_type": "code",
   "execution_count": 4,
   "id": "58e8ced7",
   "metadata": {},
   "outputs": [],
   "source": [
    "import numpy as np\n",
    "import matplotlib.pyplot as plt\n",
    "from matplotlib import rcParams\n",
    "rcParams.update({'font.size': 16})\n",
    "from numpy import pi"
   ]
  },
  {
   "cell_type": "markdown",
   "id": "683e71b9",
   "metadata": {},
   "source": [
    "### 2) Define Constants"
   ]
  },
  {
   "cell_type": "code",
   "execution_count": 5,
   "id": "8c3be8d4",
   "metadata": {},
   "outputs": [],
   "source": [
    "mu0 = 4*pi*1e-7                   #V s / A / m\n",
    "hbar = 1.05457266e-34             #J s / rad\n",
    "h = 2*pi*hbar                     #J s\n",
    "gammaH = 26.7522128e7             #rad / s / T\n",
    "gammaN = -2.7116e7                #rad / s / T\n",
    "rNH = 1.1*1e-10                   #m "
   ]
  },
  {
   "cell_type": "markdown",
   "id": "cad09ae9",
   "metadata": {},
   "source": [
    "### 3) Functions"
   ]
  },
  {
   "cell_type": "code",
   "execution_count": 6,
   "id": "ca3cab48",
   "metadata": {},
   "outputs": [],
   "source": [
    "#Spectral density function (for isotropic tumbling)\n",
    "    #Call as: Jiso(omega, tau)\n",
    "    #one of the two inputs can be an array\n",
    "Jiso = lambda omega, tau: (2/5)*tau/(1+(omega*tau)**2)"
   ]
  },
  {
   "cell_type": "markdown",
   "id": "29271ece",
   "metadata": {},
   "source": [
    "### 4) Parameters"
   ]
  },
  {
   "cell_type": "code",
   "execution_count": 7,
   "id": "6bf18b87",
   "metadata": {},
   "outputs": [],
   "source": [
    "B0 = np.arange(1,30,.1)            #T\n",
    "sigma_zz = 0                       #ppm\n",
    "tauC1 = 10**-12;                   #s\n",
    "tauC2 = 10**-10;                   #s\n",
    "tauC3 = 10**-8;                    #s\n",
    "\n",
    "omegaI = -B0*gammaH                 #rad/s, 1H Larmor frequency\n",
    "omegaS = -B0*gammaN                 #rad/s, 15N Larmor frequency\n",
    "\n",
    "deltaIS = -2*mu0*gammaH*gammaN*hbar/(4*pi)/rNH**3"
   ]
  },
  {
   "cell_type": "markdown",
   "id": "c1bf686d",
   "metadata": {},
   "source": [
    "### 5) Calculate T$_{1S}$"
   ]
  },
  {
   "cell_type": "code",
   "execution_count": 9,
   "id": "99710515",
   "metadata": {},
   "outputs": [],
   "source": [
    "#s. Eq. (3) on the exercise sheet\n",
    "    #note that sigma_zz is given in ppm above\n",
    "R1S_tauC1 = (deltaIS/4)**2 * (Jiso(omegaI-omegaS, tauC1) + 3*Jiso(omegaS, tauC1) \\\n",
    "                             + 6*Jiso(omegaI+omegaS, tauC1)) \\\n",
    "                             + 3/4 * (omegaS*sigma_zz*1e-6)**2 * Jiso(omegaS, tauC1)\n",
    "R1S_tauC2 = (deltaIS/4)**2 * (Jiso(omegaI-omegaS, tauC2) + 3*Jiso(omegaS, tauC2) \\\n",
    "                              + 6*Jiso(omegaI+omegaS, tauC2)) \\\n",
    "                              + 3/4 * (omegaS*sigma_zz*1e-6)**2 * Jiso(omegaS, tauC2)\n",
    "R1S_tauC3 = (deltaIS/4)**2 * (Jiso(omegaI-omegaS, tauC3) + 3*Jiso(omegaS, tauC3) \\\n",
    "                              + 6*Jiso(omegaI+omegaS, tauC3)) \\\n",
    "                              + 3/4 * (omegaS*sigma_zz*1e-6)**2 * Jiso(omegaS, tauC3)\n",
    "\n",
    "T1S_tauC1 = 1/R1S_tauC1\n",
    "T1S_tauC2 = 1/R1S_tauC2\n",
    "T1S_tauC3 = 1/R1S_tauC3"
   ]
  },
  {
   "cell_type": "markdown",
   "id": "67148b23",
   "metadata": {},
   "source": [
    "### 5) Semi-Logarithmic Plot of $T_{1S}$ vs $B_0$"
   ]
  },
  {
   "cell_type": "code",
   "execution_count": 15,
   "id": "88241619",
   "metadata": {},
   "outputs": [
    {
     "data": {
      "text/plain": [
       "(0.01, 1000)"
      ]
     },
     "execution_count": 15,
     "metadata": {},
     "output_type": "execute_result"
    },
    {
     "data": {
      "image/png": "[encoded data removed]",
      "text/plain": [
       "<Figure size 432x288 with 1 Axes>"
      ]
     },
     "metadata": {
      "needs_background": "light"
     },
     "output_type": "display_data"
    }
   ],
   "source": [
    "fig,ax=plt.subplots()\n",
    "fig.set_size_inches([8,6])\n",
    "ax.semilogy(B0, T1S_tauC1, linewidth=1.5)\n",
    "ax.semilogy(B0, T1S_tauC2, linewidth=1.5)\n",
    "ax.semilogy(B0, T1S_tauC3, linewidth=1.5)\n",
    "ax.set_xlabel(r\"$B_0$ [T]\")\n",
    "ax.set_ylabel(r\"$T_{1, S}$ [s]\")\n",
    "ax.legend([f'{tauC1:.0e}',f'{tauC2:.0e}', f'{tauC3:.0e}'],title=r'$\\tau_c$',loc='lower right')\n",
    "ax.set_xlim([B0[0],B0[-1]])\n",
    "ax.set_ylim([10**-2,10**3])"
   ]
  },
  {
   "cell_type": "code",
   "execution_count": null,
   "id": "e0adcfd7",
   "metadata": {},
   "outputs": [],
   "source": []
  }
 ],
 "metadata": {
  "kernelspec": {
   "display_name": "Python 3",
   "language": "python",
   "name": "python3"
  },
  "language_info": {
   "codemirror_mode": {
    "name": "ipython",
    "version": 3
   },
   "file_extension": ".py",
   "mimetype": "text/x-python",
   "name": "python",
   "nbconvert_exporter": "python",
   "pygments_lexer": "ipython3",
   "version": "3.8.8"
  }
 },
 "nbformat": 4,
 "nbformat_minor": 5
}
