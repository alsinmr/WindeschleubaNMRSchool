{
 "cells": [
  {
   "cell_type": "markdown",
   "id": "6da18b60",
   "metadata": {},
   "source": [
    "<a href=\"https://githubtocolab.com/alsinmr/WindeschleubaNMRSchool/blob/main/JupyterExercises/Sol5/ex05_T1_1and2.ipynb\" target=\"_parent\"><img src=\"https://colab.research.google.com/assets/colab-badge.svg\" alt=\"Open In Colab\"/></a>"
   ]
  },
  {
   "cell_type": "markdown",
   "id": "6524b84f",
   "metadata": {},
   "source": [
    "# Spectral Density Functions: T$_1$ Relaxation\n",
    "### Exercise 1.1 and 1.2"
   ]
  },
  {
   "cell_type": "markdown",
   "id": "7b91fb90",
   "metadata": {},
   "source": [
    "### 1) Imports"
   ]
  },
  {
   "cell_type": "code",
   "execution_count": null,
   "id": "6e207e2f",
   "metadata": {},
   "outputs": [],
   "source": [
    "import numpy as np\n",
    "import matplotlib.pyplot as plt\n",
    "from matplotlib import rcParams\n",
    "rcParams.update({'font.size': 16})\n",
    "from numpy import pi"
   ]
  },
  {
   "cell_type": "markdown",
   "id": "6d2e8500",
   "metadata": {},
   "source": [
    "### 2) Define Constants"
   ]
  },
  {
   "cell_type": "code",
   "execution_count": null,
   "id": "fb0c2b82",
   "metadata": {},
   "outputs": [],
   "source": [
    "mu0 = 4*pi*1e-7                   #V s / A / m\n",
    "hbar = 1.05457266e-34             #J s / rad\n",
    "h = 2*pi*hbar                     #J s\n",
    "gammaH = 26.7522128e7             #rad / s / T\n",
    "gammaN = -2.7116e7                #rad / s / T\n",
    "rNH = 1.1*1e-10                   #m "
   ]
  },
  {
   "cell_type": "markdown",
   "id": "be81de4a",
   "metadata": {},
   "source": [
    "### 3) Functions"
   ]
  },
  {
   "cell_type": "code",
   "execution_count": null,
   "id": "414d625e",
   "metadata": {},
   "outputs": [],
   "source": [
    "#Spectral density function (for isotropic tumbling)\n",
    "    #Call as: Jiso(omega, tau)\n",
    "    #one of the two inputs can be an array\n",
    "Jiso = lambda omega, tau: (2/5)*tau/(1+(omega*tau)**2)"
   ]
  },
  {
   "cell_type": "markdown",
   "id": "76db0338",
   "metadata": {},
   "source": [
    "### 4) Parameters"
   ]
  },
  {
   "cell_type": "code",
   "execution_count": null,
   "id": "327a3040",
   "metadata": {},
   "outputs": [],
   "source": [
    "B0 =                            #T\n",
    "sigma_zz1 =                     #ppm\n",
    "sigma_zz2 =                     #ppm\n",
    "sigma_zz3 =                     #ppm\n",
    "tauC =     #s hint: 10**np.arange(start,stop,step)\n",
    "\n",
    "omegaI =              #rad/s, 1H Larmor frequency\n",
    "omegaS =                  #rad/s, 15N Larmor frequency\n",
    "\n",
    "deltaIS = -2*mu0*gammaH*gammaN*hbar/(4*pi)/rNH**3"
   ]
  },
  {
   "cell_type": "markdown",
   "id": "ec8960eb",
   "metadata": {},
   "source": [
    "### 5) Calculate T$_{1S}$"
   ]
  },
  {
   "cell_type": "code",
   "execution_count": null,
   "id": "414948fc",
   "metadata": {},
   "outputs": [],
   "source": [
    "#s. Eq. (3) on the exercise sheet\n",
    "    #note that sigma_zz is given in ppm above\n",
    "R1S_1 = #Formula for R1, using sigma_zz1 here\n",
    "R1S_2 = #sigma_zz2\n",
    "R1S_3 = #sigma_zz3\n",
    "\n",
    "T1S_1 = 1/R1S_1\n",
    "T1S_2 = 1/R1S_2\n",
    "T1S_3 = 1/R1S_3"
   ]
  },
  {
   "cell_type": "markdown",
   "id": "1beaed72",
   "metadata": {},
   "source": [
    "### 5a) Double Logarithmic Plot of T$_{1S}$ vs. $\\omega_S*\\tau_c$"
   ]
  },
  {
   "cell_type": "code",
   "execution_count": null,
   "id": "22515f82",
   "metadata": {},
   "outputs": [],
   "source": [
    "fig,ax=plt.subplots()\n",
    "fig.set_size_inches([8,6])\n",
    "ax.loglog(omegaS*tauC, T1S_1, linewidth=1.5)\n",
    "ax.loglog(omegaS*tauC, T1S_2, linewidth=1.5)\n",
    "ax.loglog(omegaS*tauC, T1S_3, linewidth=1.5)\n",
    "ax.set_xlabel(r\"$\\omega_S*\\tau_c$\")\n",
    "ax.set_ylabel(r\"$T_{1,S}$ [s]\")\n",
    "ax.set_xlim([tauC[0]*omegaS,tauC[-1]*omegaS])\n",
    "_=ax.legend([\"0 ppm\", \"50 ppm\", \"150 ppm\"],title=r'$\\sigma_{zz}^{(S)}$',\n",
    "         loc='upper left')"
   ]
  },
  {
   "cell_type": "markdown",
   "id": "6d02e836",
   "metadata": {},
   "source": [
    "### 5a.1) Semi-log. Plot of $R_{1S}$ vs. $\\tau_c$ for 0 ppm"
   ]
  },
  {
   "cell_type": "code",
   "execution_count": null,
   "id": "bc8cdee0",
   "metadata": {},
   "outputs": [],
   "source": [
    "fig,ax=plt.subplots()\n",
    "fig.set_size_inches([8,6])\n",
    "ax.semilogx(tauC, R1S_1, linewidth=1.5)\n",
    "ax.set_xlabel(r\"$\\tau_c$\")\n",
    "ax.set_ylabel(r\"$R_{1,S}$ [Hz]\")\n",
    "_=ax.set_xlim([tauC[0],tauC[-1]])"
   ]
  },
  {
   "cell_type": "markdown",
   "id": "b6cd3bbd",
   "metadata": {},
   "source": [
    "### 6) Double Logarithmic Plot of $J_{iso}$"
   ]
  },
  {
   "cell_type": "code",
   "execution_count": null,
   "id": "9b969f6d",
   "metadata": {},
   "outputs": [],
   "source": [
    "J_omegaS =      #spectral density at omegaS\n",
    "J_omegaSMomegaI =      #spectral density at omegaS-omegaI\n",
    "J_omegaSPomegaI =      #spectral density at omegaS+omegaI\n",
    "J_0 =          #spectral density at 0\n",
    "\n",
    "fig,ax=plt.subplots()\n",
    "fig.set_size_inches([8,6])\n",
    "ax.loglog(omegaS*tauC, J_omegaS, linewidth=1.5)\n",
    "ax.loglog(omegaS*tauC, J_omegaSMomegaI, linewidth=1.5)\n",
    "ax.loglog(omegaS*tauC, J_omegaSPomegaI, linewidth=1.5)\n",
    "ax.loglog(omegaS*tauC, J_0, linewidth=1.5)\n",
    "ax.set_xlabel(r\"$\\omega_S*\\tau_c$\")\n",
    "ax.set_ylabel(r\"$J(\\omega)$\")\n",
    "ax.set_xlim([tauC[0]*omegaS,tauC[-1]*omegaS])\n",
    "ax.legend([r\"$\\omega_S$\" ,r\"$\\omega_S - \\omega_I$\", r\"$\\omega_S + \\omega_I$\", \"0\"],\n",
    "         loc='upper left')"
   ]
  },
  {
   "cell_type": "code",
   "execution_count": null,
   "id": "52f638aa",
   "metadata": {},
   "outputs": [],
   "source": []
  }
 ],
 "metadata": {
  "kernelspec": {
   "display_name": "Python 3",
   "language": "python",
   "name": "python3"
  },
  "language_info": {
   "codemirror_mode": {
    "name": "ipython",
    "version": 3
   },
   "file_extension": ".py",
   "mimetype": "text/x-python",
   "name": "python",
   "nbconvert_exporter": "python",
   "pygments_lexer": "ipython3",
   "version": "3.8.8"
  }
 },
 "nbformat": 4,
 "nbformat_minor": 5
}
