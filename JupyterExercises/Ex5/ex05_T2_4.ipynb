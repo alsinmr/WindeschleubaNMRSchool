{
 "cells": [
  {
   "cell_type": "markdown",
   "id": "35230f5e",
   "metadata": {},
   "source": [
    "<a href=\"https://githubtocolab.com/alsinmr/WindeschleubaNMRSchool/blob/main/JupyterExercises/Sol5/ex05_T2_4.ipynb\" target=\"_parent\"><img src=\"https://colab.research.google.com/assets/colab-badge.svg\" alt=\"Open In Colab\"/></a>"
   ]
  },
  {
   "cell_type": "markdown",
   "id": "065c7c7d",
   "metadata": {},
   "source": [
    "# Spectral Density Functions: T$_2$ Relaxation\n",
    "### Exercise 2.4"
   ]
  },
  {
   "cell_type": "markdown",
   "id": "c4cf7888",
   "metadata": {},
   "source": [
    "### 1) Imports"
   ]
  },
  {
   "cell_type": "code",
   "execution_count": null,
   "id": "58e8ced7",
   "metadata": {},
   "outputs": [],
   "source": [
    "import numpy as np\n",
    "import matplotlib.pyplot as plt\n",
    "from matplotlib import rcParams\n",
    "rcParams.update({'font.size': 16})\n",
    "from numpy import pi"
   ]
  },
  {
   "cell_type": "markdown",
   "id": "683e71b9",
   "metadata": {},
   "source": [
    "### 2) Define Constants"
   ]
  },
  {
   "cell_type": "code",
   "execution_count": null,
   "id": "8c3be8d4",
   "metadata": {},
   "outputs": [],
   "source": [
    "mu0 = 4*pi*1e-7                   #V s / A / m\n",
    "hbar = 1.05457266e-34             #J s / rad\n",
    "h = 2*pi*hbar                     #J s\n",
    "gammaH = 26.7522128e7             #rad / s / T\n",
    "gammaN = -2.7116e7                #rad / s / T\n",
    "rNH = 1.1*1e-10                   #m "
   ]
  },
  {
   "cell_type": "markdown",
   "id": "cad09ae9",
   "metadata": {},
   "source": [
    "### 3) Functions"
   ]
  },
  {
   "cell_type": "code",
   "execution_count": null,
   "id": "ca3cab48",
   "metadata": {},
   "outputs": [],
   "source": [
    "#Spectral density function (for isotropic tumbling)\n",
    "    #Call as: Jiso(omega, tau)\n",
    "    #one of the two inputs can be an array\n",
    "Jiso = lambda omega, tau: (2/5)*tau/(1+(omega*tau)**2)"
   ]
  },
  {
   "cell_type": "markdown",
   "id": "29271ece",
   "metadata": {},
   "source": [
    "### 4) Parameters"
   ]
  },
  {
   "cell_type": "code",
   "execution_count": null,
   "id": "6bf18b87",
   "metadata": {},
   "outputs": [],
   "source": [
    "B0 =                          #T\n",
    "sigma_zz =                       #ppm\n",
    "tauC =   #s (10**np.arange(start,step,stop))\n",
    "\n",
    "omegaI =                #rad/s, 1H Larmor frequency\n",
    "omegaS =                #rad/s, 15N Larmor frequency\n",
    "\n",
    "deltaIS = -2*mu0*gammaH*gammaN*hbar/(4*pi)/rNH**3"
   ]
  },
  {
   "cell_type": "markdown",
   "id": "c1bf686d",
   "metadata": {},
   "source": [
    "### 5) Calculate T$_{1S}$ and T$_{2S}$"
   ]
  },
  {
   "cell_type": "code",
   "execution_count": null,
   "id": "99710515",
   "metadata": {},
   "outputs": [],
   "source": [
    "#s. Eq. (3) on the exercise sheet\n",
    "    #note that sigma_zz is given in ppm above\n",
    "R1S = \n",
    "T1S = 1/R1S\n",
    "\n",
    "R2S = \n",
    "T2S = 1/R2S"
   ]
  },
  {
   "cell_type": "markdown",
   "id": "67148b23",
   "metadata": {},
   "source": [
    "### 5) Back-calculate $\\tau_c$"
   ]
  },
  {
   "cell_type": "code",
   "execution_count": null,
   "id": "88241619",
   "metadata": {},
   "outputs": [],
   "source": [
    "#s. Eq. (5) on the exercise sheet\n",
    "     \n",
    "tauC_BC = "
   ]
  },
  {
   "cell_type": "markdown",
   "id": "90fae39e",
   "metadata": {},
   "source": [
    "### 6) Double Logarithmic Plot of back-calculated $\\tau_c$ against input $\\tau_c$"
   ]
  },
  {
   "cell_type": "code",
   "execution_count": null,
   "id": "d4b515ae",
   "metadata": {},
   "outputs": [],
   "source": [
    "fig,ax=plt.subplots()\n",
    "fig.set_size_inches([8,6])\n",
    "ax.loglog(tauC, tauC_BC.real, linewidth=1.5)\n",
    "ax.loglog(tauC, tauC, linewidth=1.5)\n",
    "ax.set_xlabel(r\"$\\tau_c$ [s]\")\n",
    "ax.set_ylabel(r\"$\\tau_c$ [s]\")\n",
    "ax.legend([r\"$\\tau_c$ (input) vs. $\\tau_c$ (fit)\", r\"$\\tau_c$ (input) vs. $\\tau_c$ (input)\"],\n",
    "         loc='upper left')\n",
    "ax.set_xlim([tauC[0],tauC[-1]])"
   ]
  }
 ],
 "metadata": {
  "kernelspec": {
   "display_name": "Python 3",
   "language": "python",
   "name": "python3"
  },
  "language_info": {
   "codemirror_mode": {
    "name": "ipython",
    "version": 3
   },
   "file_extension": ".py",
   "mimetype": "text/x-python",
   "name": "python",
   "nbconvert_exporter": "python",
   "pygments_lexer": "ipython3",
   "version": "3.8.8"
  }
 },
 "nbformat": 4,
 "nbformat_minor": 5
}
