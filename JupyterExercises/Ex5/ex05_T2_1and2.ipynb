{
 "cells": [
  {
   "cell_type": "markdown",
   "id": "7958edfc",
   "metadata": {},
   "source": [
    "<a href=\"https://githubtocolab.com/alsinmr/WindeschleubaNMRSchool/blob/main/JupyterExercises/Ex5/ex05_T2_1and2.ipynb\" target=\"_parent\"><img src=\"https://colab.research.google.com/assets/colab-badge.svg\" alt=\"Open In Colab\"/></a>"
   ]
  },
  {
   "cell_type": "markdown",
   "id": "1a635fcd",
   "metadata": {},
   "source": [
    "# Spectral Density Functions: T$_2$ Relaxation\n",
    "### Exercise 2.1 and 2.2"
   ]
  },
  {
   "cell_type": "markdown",
   "id": "4aee37c5",
   "metadata": {},
   "source": [
    "### 1) Imports"
   ]
  },
  {
   "cell_type": "code",
   "execution_count": null,
   "id": "32652f56",
   "metadata": {},
   "outputs": [],
   "source": [
    "import numpy as np\n",
    "import matplotlib.pyplot as plt\n",
    "from matplotlib import rcParams\n",
    "rcParams.update({'font.size': 16})\n",
    "from numpy import pi"
   ]
  },
  {
   "cell_type": "markdown",
   "id": "cc9b381a",
   "metadata": {},
   "source": [
    "### 2) Define Constants"
   ]
  },
  {
   "cell_type": "code",
   "execution_count": null,
   "id": "66ecc9d6",
   "metadata": {},
   "outputs": [],
   "source": [
    "mu0 = 4*pi*1e-7                   #V s / A / m\n",
    "hbar = 1.05457266e-34             #J s / rad\n",
    "h = 2*pi*hbar                     #J s\n",
    "gammaH = 26.7522128e7             #rad / s / T\n",
    "gammaN = -2.7116e7                #rad / s / T\n",
    "rNH = 1.1*1e-10                   #m "
   ]
  },
  {
   "cell_type": "markdown",
   "id": "262f6345",
   "metadata": {},
   "source": [
    "### 3) Functions"
   ]
  },
  {
   "cell_type": "code",
   "execution_count": null,
   "id": "1540867e",
   "metadata": {},
   "outputs": [],
   "source": [
    "#Spectral density function (for isotropic tumbling)\n",
    "    #Call as: Jiso(omega, tau)\n",
    "    #one of the two inputs can be an array\n",
    "Jiso = lambda omega, tau: (2/5)*tau/(1+(omega*tau)**2)"
   ]
  },
  {
   "cell_type": "markdown",
   "id": "f07919b0",
   "metadata": {},
   "source": [
    "### 4) Parameters"
   ]
  },
  {
   "cell_type": "code",
   "execution_count": null,
   "id": "9d13dc9a",
   "metadata": {},
   "outputs": [],
   "source": [
    "B0 =                        #T\n",
    "sigma_zz1 =                 #ppm\n",
    "sigma_zz2 =                 #ppm\n",
    "sigma_zz3 =                 #ppm\n",
    "tauC =                      #s (10**np.arange(start,stop,step))\n",
    "\n",
    "omegaI =                  #rad/s, 1H Larmor frequency\n",
    "omegaS =                  #rad/s, 15N Larmor frequency\n",
    "\n",
    "deltaIS = -2*mu0*gammaH*gammaN*hbar/(4*pi)/rNH**3"
   ]
  },
  {
   "cell_type": "markdown",
   "id": "0fdb31b5",
   "metadata": {},
   "source": [
    "### 5) Calculate T$_{2S}$"
   ]
  },
  {
   "cell_type": "code",
   "execution_count": null,
   "id": "a5e99821",
   "metadata": {},
   "outputs": [],
   "source": [
    "#s. Eq. (3) on the exercise sheet\n",
    "    #note that sigma_zz is given in ppm above\n",
    "R2S_1 =     #R2 with sigma_zz1\n",
    "R2S_2 =     #sigma_zz2\n",
    "R2S_3 =     #sigma_zz3\n",
    "   \n",
    "T2S_1 = 1/R2S_1\n",
    "T2S_2 = 1/R2S_2 \n",
    "T2S_3 = 1/R2S_3"
   ]
  },
  {
   "cell_type": "markdown",
   "id": "c72a427e",
   "metadata": {},
   "source": [
    "### 5) Double Logarithmic Plot of T$_{2S}$ vs. $\\omega_S*\\tau_c$"
   ]
  },
  {
   "cell_type": "code",
   "execution_count": null,
   "id": "3794681e",
   "metadata": {},
   "outputs": [],
   "source": [
    "fig,ax=plt.subplots()\n",
    "fig.set_size_inches([8,6])\n",
    "ax.loglog(omegaS*tauC, T2S_1, linewidth=1.5)\n",
    "ax.loglog(omegaS*tauC, T2S_2, linewidth=1.5)\n",
    "ax.loglog(omegaS*tauC, T2S_3, linewidth=1.5)\n",
    "ax.set_xlabel(r\"$\\omega_S*\\tau_c$\")\n",
    "ax.set_ylabel(r\"$R_{2,S}$ [s]\")\n",
    "ax.set_xlim([tauC[0]*omegaS,tauC[-1]*omegaS])\n",
    "_=ax.legend([\"0 ppm\", \"50 ppm\", \"150 ppm\"],title=r'$\\sigma_{zz}^{(S)}$',\n",
    "         loc='lower left')"
   ]
  }
 ],
 "metadata": {
  "kernelspec": {
   "display_name": "Python 3",
   "language": "python",
   "name": "python3"
  },
  "language_info": {
   "codemirror_mode": {
    "name": "ipython",
    "version": 3
   },
   "file_extension": ".py",
   "mimetype": "text/x-python",
   "name": "python",
   "nbconvert_exporter": "python",
   "pygments_lexer": "ipython3",
   "version": "3.8.8"
  }
 },
 "nbformat": 4,
 "nbformat_minor": 5
}
