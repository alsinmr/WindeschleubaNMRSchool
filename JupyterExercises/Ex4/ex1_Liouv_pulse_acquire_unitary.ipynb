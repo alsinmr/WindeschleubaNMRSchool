{
 "cells": [
  {
   "cell_type": "markdown",
   "id": "2c2dabfd",
   "metadata": {},
   "source": [
    "## Simple one-spin pulse acquire simulation in Liouville space, but without relaxation\n",
    "Note: everything in SI units for clarity, frequencies in linear frequencies!"
   ]
  },
  {
   "cell_type": "markdown",
   "id": "84b89d3e",
   "metadata": {},
   "source": [
    "### 1) Imports"
   ]
  },
  {
   "cell_type": "code",
   "execution_count": null,
   "id": "44dcf91e",
   "metadata": {},
   "outputs": [],
   "source": [
    "import numpy as np\n",
    "from scipy.linalg import expm\n",
    "import matplotlib.pyplot as plt"
   ]
  },
  {
   "cell_type": "markdown",
   "id": "98fc46ae",
   "metadata": {},
   "source": [
    "### 2) Build spin operator matrices"
   ]
  },
  {
   "cell_type": "code",
   "execution_count": null,
   "id": "ec1c309e",
   "metadata": {},
   "outputs": [],
   "source": [
    "Ix = 1/2*np.array([[0,1],[1,0]])\n",
    "Iy = 1/2*np.array([[0,-1j],[1j,0]])\n",
    "Iz = 1/2*np.array([[1,0],[0,-1]])\n",
    "Ip = Ix+1j*Iy\n",
    "Im = Ix-1j*Iy\n",
    "E = np.eye(2)"
   ]
  },
  {
   "cell_type": "markdown",
   "id": "dd2c48c1",
   "metadata": {},
   "source": [
    "### 3) Set Hamiltonian parameters and build the matrix"
   ]
  },
  {
   "cell_type": "code",
   "execution_count": null,
   "id": "d6ccdeac",
   "metadata": {},
   "outputs": [],
   "source": [
    "offset = 4e3   #4 kHz offset\n",
    "H0 = offset*Iz"
   ]
  },
  {
   "cell_type": "markdown",
   "id": "9ecc7d9b",
   "metadata": {},
   "source": [
    "### 4) Set simulation parameters"
   ]
  },
  {
   "cell_type": "code",
   "execution_count": null,
   "id": "a32dc281",
   "metadata": {},
   "outputs": [],
   "source": [
    "rho0 = Iz  #Starting density operator\n",
    "pulseOp = Iy #Pulse operator\n",
    "detOp = Ix + 1j*Iy #detection operator\n",
    "\n",
    "rho_eq=Iz #Equilibrium operator\n",
    "\n",
    "dt = 10e-6 #Sampling time step (dwell time)\n",
    "nPoints = 1024  #Length of acquisition\n",
    "t = np.arange(1024)*dt #Time vector\n",
    "\n",
    "sig = np.zeros(nPoints,dtype=complex) #Pre-allocation of signal vector"
   ]
  },
  {
   "cell_type": "markdown",
   "id": "e7f0bfda",
   "metadata": {},
   "source": [
    "### 5) Actual simulation"
   ]
  },
  {
   "cell_type": "code",
   "execution_count": null,
   "id": "073d46b6",
   "metadata": {},
   "outputs": [],
   "source": [
    "#Convert everything into Liouville space\n",
    "H0_L = \n",
    "rho0_L = \n",
    "pulseOp_L = \n",
    "detOp_L = \n",
    "rho_eq_L = \n",
    "\n",
    "#start sim\n",
    "rho_L = rho0_L\n",
    "\n",
    "# apply pulse propagator to initial density operator\n",
    "Upulse_L = expm(-1j*np.pi/2*pulseOp_L)\n",
    "rho_L = \n",
    "\n",
    "# build propagator of free evolution and acquire\n",
    "U0_L = expm(-1j*2*np.pi*H0_L*dt)\n",
    "\n",
    "for k in range(nPoints):\n",
    "    sig[k] =  #detect\n",
    "    rho_L =  #propagation"
   ]
  },
  {
   "cell_type": "markdown",
   "id": "d3255b2e",
   "metadata": {},
   "source": [
    "### 6) Plot real and imaginary part"
   ]
  },
  {
   "cell_type": "code",
   "execution_count": null,
   "id": "9e66709e",
   "metadata": {},
   "outputs": [],
   "source": [
    "ax=plt.subplots()[1]\n",
    "ax.plot(t*1e3,sig.real,color='blue')\n",
    "ax.plot(t*1e3,sig.imag,color='red')\n",
    "ax.set_title('raw signal')\n",
    "ax.set_xlabel('t / ms')\n",
    "ax.set_ylabel('signal / a.u.')\n",
    "ax.legend(('Re','Im'))"
   ]
  },
  {
   "cell_type": "markdown",
   "id": "ad09c368",
   "metadata": {},
   "source": [
    "### 7) Apodize, i.e. multiply with window function"
   ]
  },
  {
   "cell_type": "code",
   "execution_count": null,
   "id": "f7f94bc5",
   "metadata": {},
   "outputs": [],
   "source": [
    "twin = 1e-3 #Apodization parameter\n",
    "win = np.exp(-t/twin)\n",
    "\n",
    "#Apply window to signal\n",
    "sig_apo = sig*win\n",
    "\n",
    "ax=plt.subplots()[1]\n",
    "ax.plot(t*1e3,sig_apo.real,color='red')\n",
    "ax.plot(t*1e3,sig_apo.imag,color='blue')\n",
    "ax.set_title('Apodized signal')\n",
    "ax.set_xlabel('t / ms')\n",
    "ax.set_ylabel('signal / a.u.')\n",
    "ax.legend(('Re','Im'))"
   ]
  },
  {
   "cell_type": "markdown",
   "id": "3fa8ed08",
   "metadata": {},
   "source": [
    "### 8) Fourier transform with zero-filling, construction of the frequency vector"
   ]
  },
  {
   "cell_type": "code",
   "execution_count": null,
   "id": "bb92b9bf",
   "metadata": {},
   "outputs": [],
   "source": [
    "sig_apo[0]/=2 #Divide first point by 2 to get correct baseline\n",
    "spec=np.fft.fftshift(np.fft.fft(sig_apo,2*nPoints))*dt\n",
    "\n",
    "#Frequency vector\n",
    "N=spec.size\n",
    "nyqFreq = 1/(2*dt)\n",
    "unitAxis=2/N*(np.arange(N)-N//2)\n",
    "freq = nyqFreq*unitAxis\n",
    "\n",
    "ax=plt.subplots()[1]\n",
    "ax.plot(freq/1e3,spec.real,color='blue')\n",
    "ax.plot(freq/1e3,spec.imag,color='red')\n",
    "ax.plot(freq/1e3,np.abs(spec),color='black')\n",
    "ax.set_title('spectrum')\n",
    "ax.legend(('Re','Im','Abs'))"
   ]
  },
  {
   "cell_type": "code",
   "execution_count": null,
   "id": "9debff84",
   "metadata": {},
   "outputs": [],
   "source": []
  }
 ],
 "metadata": {
  "kernelspec": {
   "display_name": "Python 3",
   "language": "python",
   "name": "python3"
  },
  "language_info": {
   "codemirror_mode": {
    "name": "ipython",
    "version": 3
   },
   "file_extension": ".py",
   "mimetype": "text/x-python",
   "name": "python",
   "nbconvert_exporter": "python",
   "pygments_lexer": "ipython3",
   "version": "3.7.3"
  }
 },
 "nbformat": 4,
 "nbformat_minor": 5
}
